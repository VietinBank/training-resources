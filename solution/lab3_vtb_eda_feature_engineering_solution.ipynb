{
  "nbformat": 4,
  "nbformat_minor": 0,
  "metadata": {
    "colab": {
      "name": "lab3_vtb_eda_feature_engineering_solution.ipynb",
      "provenance": [],
      "collapsed_sections": [
        "ccOXhty-kFcd"
      ]
    },
    "kernelspec": {
      "name": "python3",
      "display_name": "Python 3"
    },
    "language_info": {
      "name": "python"
    }
  },
  "cells": [
    {
      "cell_type": "markdown",
      "source": [
        "**LAB 03: Exploration Data Analysis & Feature Engineering**\n",
        "\n",
        "---"
      ],
      "metadata": {
        "id": "E97sLZP_5zd5"
      }
    },
    {
      "cell_type": "markdown",
      "source": [
        "🎯 **Mục tiêu bài lab:**\n",
        "- Thực hành Clean Data\n",
        "\n",
        "- Thực hành EDA\n",
        "\n",
        "  - Phân phối dữ liệu\n",
        "  - Tương quan dữ liệu\n",
        "\n",
        "- Thực hành Feature Engineering\n",
        "  - Biến đổi feature\n",
        "  - Tạo mới feature\n",
        "\n",
        "📖 **Hướng dẫn:**\n",
        "\n",
        "Học viên đọc hiểu bài lab, thực hiện các block code với tag #TODO , có thể tham khảo solution tại [notebook solution](https://github.com/VietinBank/training-resources/tree/main/solution)\n"
      ],
      "metadata": {
        "id": "xPOFjv0e6Bsh"
      }
    },
    {
      "cell_type": "code",
      "source": [
        "#@title Import thư viện\n",
        "\n",
        "# Pandas tương tác dữ liệu\n",
        "import pandas as pd\n",
        "# Thư viện seaborn cho data visualization\n",
        "import seaborn as sns"
      ],
      "metadata": {
        "id": "C0gLVeR__YyM"
      },
      "execution_count": 120,
      "outputs": []
    },
    {
      "cell_type": "markdown",
      "source": [
        "## Đọc dữ liệu với pandas"
      ],
      "metadata": {
        "id": "k84sYsv36iS5"
      }
    },
    {
      "cell_type": "code",
      "source": [
        "data_url = 'https://raw.githubusercontent.com/VietinBank/training-resources/main/labs/data/taxi-trips.csv'\n",
        "data = pd.read_csv(data_url)"
      ],
      "metadata": {
        "id": "qD6DvB8awbIZ"
      },
      "execution_count": 121,
      "outputs": []
    },
    {
      "cell_type": "code",
      "source": [
        "columns = ['vendor_id','pickup_datetime','dropoff_datetime','pickup_longitude','pickup_latitude','dropoff_longitude','dropoff_latitude','rate_code','passenger_count','tolls_amount','fare_amount']\n",
        "data = data[columns]\n",
        "data.head(5)"
      ],
      "metadata": {
        "colab": {
          "base_uri": "https://localhost:8080/",
          "height": 206
        },
        "id": "NbeSxpVohvhP",
        "outputId": "3f66a789-7c32-4889-ed95-ed2fe9992751"
      },
      "execution_count": 122,
      "outputs": [
        {
          "output_type": "execute_result",
          "data": {
            "text/plain": [
              "  vendor_id       pickup_datetime      dropoff_datetime  pickup_longitude  \\\n",
              "0       VTS  2015-06-09T20:43:54Z  2015-06-09T20:44:18Z        -73.989525   \n",
              "1       VTS  2015-06-12T00:24:40Z  2015-06-12T01:05:38Z        -73.987953   \n",
              "2       CMT  2015-06-04T01:00:45Z  2015-06-04T01:01:14Z        -73.977577   \n",
              "3       CMT  2015-01-02T18:58:25Z  2015-01-02T18:58:39Z        -73.992142   \n",
              "4       VTS  2015-02-05T17:12:34Z  2015-02-05T17:13:02Z        -74.004471   \n",
              "\n",
              "   pickup_latitude  dropoff_longitude  dropoff_latitude  rate_code  \\\n",
              "0        40.735950         -73.988747         40.736984          1   \n",
              "1        40.743717         -73.945580         40.829327          1   \n",
              "2        40.757839         -73.978226         40.758121          1   \n",
              "3        40.739388         -73.992096         40.739491          1   \n",
              "4        40.721657         -74.004333         40.721790          1   \n",
              "\n",
              "   passenger_count  tolls_amount  fare_amount  \n",
              "0                6           0.0          2.5  \n",
              "1                1           0.0          2.5  \n",
              "2                1           0.0          2.5  \n",
              "3                1           0.0          2.5  \n",
              "4                5           0.0          2.5  "
            ],
            "text/html": [
              "\n",
              "  <div id=\"df-a57f34ab-9c6e-484c-bf9f-7b5cc434588d\">\n",
              "    <div class=\"colab-df-container\">\n",
              "      <div>\n",
              "<style scoped>\n",
              "    .dataframe tbody tr th:only-of-type {\n",
              "        vertical-align: middle;\n",
              "    }\n",
              "\n",
              "    .dataframe tbody tr th {\n",
              "        vertical-align: top;\n",
              "    }\n",
              "\n",
              "    .dataframe thead th {\n",
              "        text-align: right;\n",
              "    }\n",
              "</style>\n",
              "<table border=\"1\" class=\"dataframe\">\n",
              "  <thead>\n",
              "    <tr style=\"text-align: right;\">\n",
              "      <th></th>\n",
              "      <th>vendor_id</th>\n",
              "      <th>pickup_datetime</th>\n",
              "      <th>dropoff_datetime</th>\n",
              "      <th>pickup_longitude</th>\n",
              "      <th>pickup_latitude</th>\n",
              "      <th>dropoff_longitude</th>\n",
              "      <th>dropoff_latitude</th>\n",
              "      <th>rate_code</th>\n",
              "      <th>passenger_count</th>\n",
              "      <th>tolls_amount</th>\n",
              "      <th>fare_amount</th>\n",
              "    </tr>\n",
              "  </thead>\n",
              "  <tbody>\n",
              "    <tr>\n",
              "      <th>0</th>\n",
              "      <td>VTS</td>\n",
              "      <td>2015-06-09T20:43:54Z</td>\n",
              "      <td>2015-06-09T20:44:18Z</td>\n",
              "      <td>-73.989525</td>\n",
              "      <td>40.735950</td>\n",
              "      <td>-73.988747</td>\n",
              "      <td>40.736984</td>\n",
              "      <td>1</td>\n",
              "      <td>6</td>\n",
              "      <td>0.0</td>\n",
              "      <td>2.5</td>\n",
              "    </tr>\n",
              "    <tr>\n",
              "      <th>1</th>\n",
              "      <td>VTS</td>\n",
              "      <td>2015-06-12T00:24:40Z</td>\n",
              "      <td>2015-06-12T01:05:38Z</td>\n",
              "      <td>-73.987953</td>\n",
              "      <td>40.743717</td>\n",
              "      <td>-73.945580</td>\n",
              "      <td>40.829327</td>\n",
              "      <td>1</td>\n",
              "      <td>1</td>\n",
              "      <td>0.0</td>\n",
              "      <td>2.5</td>\n",
              "    </tr>\n",
              "    <tr>\n",
              "      <th>2</th>\n",
              "      <td>CMT</td>\n",
              "      <td>2015-06-04T01:00:45Z</td>\n",
              "      <td>2015-06-04T01:01:14Z</td>\n",
              "      <td>-73.977577</td>\n",
              "      <td>40.757839</td>\n",
              "      <td>-73.978226</td>\n",
              "      <td>40.758121</td>\n",
              "      <td>1</td>\n",
              "      <td>1</td>\n",
              "      <td>0.0</td>\n",
              "      <td>2.5</td>\n",
              "    </tr>\n",
              "    <tr>\n",
              "      <th>3</th>\n",
              "      <td>CMT</td>\n",
              "      <td>2015-01-02T18:58:25Z</td>\n",
              "      <td>2015-01-02T18:58:39Z</td>\n",
              "      <td>-73.992142</td>\n",
              "      <td>40.739388</td>\n",
              "      <td>-73.992096</td>\n",
              "      <td>40.739491</td>\n",
              "      <td>1</td>\n",
              "      <td>1</td>\n",
              "      <td>0.0</td>\n",
              "      <td>2.5</td>\n",
              "    </tr>\n",
              "    <tr>\n",
              "      <th>4</th>\n",
              "      <td>VTS</td>\n",
              "      <td>2015-02-05T17:12:34Z</td>\n",
              "      <td>2015-02-05T17:13:02Z</td>\n",
              "      <td>-74.004471</td>\n",
              "      <td>40.721657</td>\n",
              "      <td>-74.004333</td>\n",
              "      <td>40.721790</td>\n",
              "      <td>1</td>\n",
              "      <td>5</td>\n",
              "      <td>0.0</td>\n",
              "      <td>2.5</td>\n",
              "    </tr>\n",
              "  </tbody>\n",
              "</table>\n",
              "</div>\n",
              "      <button class=\"colab-df-convert\" onclick=\"convertToInteractive('df-a57f34ab-9c6e-484c-bf9f-7b5cc434588d')\"\n",
              "              title=\"Convert this dataframe to an interactive table.\"\n",
              "              style=\"display:none;\">\n",
              "        \n",
              "  <svg xmlns=\"http://www.w3.org/2000/svg\" height=\"24px\"viewBox=\"0 0 24 24\"\n",
              "       width=\"24px\">\n",
              "    <path d=\"M0 0h24v24H0V0z\" fill=\"none\"/>\n",
              "    <path d=\"M18.56 5.44l.94 2.06.94-2.06 2.06-.94-2.06-.94-.94-2.06-.94 2.06-2.06.94zm-11 1L8.5 8.5l.94-2.06 2.06-.94-2.06-.94L8.5 2.5l-.94 2.06-2.06.94zm10 10l.94 2.06.94-2.06 2.06-.94-2.06-.94-.94-2.06-.94 2.06-2.06.94z\"/><path d=\"M17.41 7.96l-1.37-1.37c-.4-.4-.92-.59-1.43-.59-.52 0-1.04.2-1.43.59L10.3 9.45l-7.72 7.72c-.78.78-.78 2.05 0 2.83L4 21.41c.39.39.9.59 1.41.59.51 0 1.02-.2 1.41-.59l7.78-7.78 2.81-2.81c.8-.78.8-2.07 0-2.86zM5.41 20L4 18.59l7.72-7.72 1.47 1.35L5.41 20z\"/>\n",
              "  </svg>\n",
              "      </button>\n",
              "      \n",
              "  <style>\n",
              "    .colab-df-container {\n",
              "      display:flex;\n",
              "      flex-wrap:wrap;\n",
              "      gap: 12px;\n",
              "    }\n",
              "\n",
              "    .colab-df-convert {\n",
              "      background-color: #E8F0FE;\n",
              "      border: none;\n",
              "      border-radius: 50%;\n",
              "      cursor: pointer;\n",
              "      display: none;\n",
              "      fill: #1967D2;\n",
              "      height: 32px;\n",
              "      padding: 0 0 0 0;\n",
              "      width: 32px;\n",
              "    }\n",
              "\n",
              "    .colab-df-convert:hover {\n",
              "      background-color: #E2EBFA;\n",
              "      box-shadow: 0px 1px 2px rgba(60, 64, 67, 0.3), 0px 1px 3px 1px rgba(60, 64, 67, 0.15);\n",
              "      fill: #174EA6;\n",
              "    }\n",
              "\n",
              "    [theme=dark] .colab-df-convert {\n",
              "      background-color: #3B4455;\n",
              "      fill: #D2E3FC;\n",
              "    }\n",
              "\n",
              "    [theme=dark] .colab-df-convert:hover {\n",
              "      background-color: #434B5C;\n",
              "      box-shadow: 0px 1px 3px 1px rgba(0, 0, 0, 0.15);\n",
              "      filter: drop-shadow(0px 1px 2px rgba(0, 0, 0, 0.3));\n",
              "      fill: #FFFFFF;\n",
              "    }\n",
              "  </style>\n",
              "\n",
              "      <script>\n",
              "        const buttonEl =\n",
              "          document.querySelector('#df-a57f34ab-9c6e-484c-bf9f-7b5cc434588d button.colab-df-convert');\n",
              "        buttonEl.style.display =\n",
              "          google.colab.kernel.accessAllowed ? 'block' : 'none';\n",
              "\n",
              "        async function convertToInteractive(key) {\n",
              "          const element = document.querySelector('#df-a57f34ab-9c6e-484c-bf9f-7b5cc434588d');\n",
              "          const dataTable =\n",
              "            await google.colab.kernel.invokeFunction('convertToInteractive',\n",
              "                                                     [key], {});\n",
              "          if (!dataTable) return;\n",
              "\n",
              "          const docLinkHtml = 'Like what you see? Visit the ' +\n",
              "            '<a target=\"_blank\" href=https://colab.research.google.com/notebooks/data_table.ipynb>data table notebook</a>'\n",
              "            + ' to learn more about interactive tables.';\n",
              "          element.innerHTML = '';\n",
              "          dataTable['output_type'] = 'display_data';\n",
              "          await google.colab.output.renderOutput(dataTable, element);\n",
              "          const docLink = document.createElement('div');\n",
              "          docLink.innerHTML = docLinkHtml;\n",
              "          element.appendChild(docLink);\n",
              "        }\n",
              "      </script>\n",
              "    </div>\n",
              "  </div>\n",
              "  "
            ]
          },
          "metadata": {},
          "execution_count": 122
        }
      ]
    },
    {
      "cell_type": "markdown",
      "source": [
        "**Ý nghĩa tập dữ liệu**\n",
        "\n",
        "Tập dữ liệu bao về các chuyến taxi newyork. Dữ liệu free [tại đây](https://www1.nyc.gov/site/tlc/about/tlc-trip-record-data.page)\n",
        "\n",
        "> vendor_id\n",
        "\n",
        "Các hãng taxi\n",
        "> pickup_datetime\t/ dropoff_datetime\n",
        "\n",
        "Thời gian đón/ trả khách\n",
        "> pickup_longitude / pickup_latitude\n",
        "\n",
        "Tọa độ đón khách\n",
        "> dropoff_longitude\t/ dropoff_latitude\n",
        "\n",
        "Tọa độ trả khách\n",
        "> rate_code\n",
        "\n",
        "Đánh giá (sao)\n",
        "> passenger_count\t\n",
        "\n",
        "Số khách / chuyến\n",
        "> tolls_amount\n",
        "\n",
        "Phí đường bộ\n",
        "\n",
        "> fare_amount\n",
        "\n",
        "Phí vận chuyển (label)\n",
        "\n",
        "\n",
        "\n"
      ],
      "metadata": {
        "id": "I4iPrdzQ6mEU"
      }
    },
    {
      "cell_type": "code",
      "source": [
        "#TODO 1: Info dữ liệu, kiểu dữ liệu của từng trường\n",
        "#code\n",
        "data.info()"
      ],
      "metadata": {
        "colab": {
          "base_uri": "https://localhost:8080/"
        },
        "id": "pK1uhdzZwhFw",
        "outputId": "3e55ff88-36fa-4b41-c694-5ffe861e6ad7"
      },
      "execution_count": 123,
      "outputs": [
        {
          "output_type": "stream",
          "name": "stdout",
          "text": [
            "<class 'pandas.core.frame.DataFrame'>\n",
            "RangeIndex: 10000 entries, 0 to 9999\n",
            "Data columns (total 11 columns):\n",
            " #   Column             Non-Null Count  Dtype  \n",
            "---  ------             --------------  -----  \n",
            " 0   vendor_id          10000 non-null  object \n",
            " 1   pickup_datetime    10000 non-null  object \n",
            " 2   dropoff_datetime   10000 non-null  object \n",
            " 3   pickup_longitude   10000 non-null  float64\n",
            " 4   pickup_latitude    10000 non-null  float64\n",
            " 5   dropoff_longitude  10000 non-null  float64\n",
            " 6   dropoff_latitude   10000 non-null  float64\n",
            " 7   rate_code          10000 non-null  int64  \n",
            " 8   passenger_count    10000 non-null  int64  \n",
            " 9   tolls_amount       10000 non-null  float64\n",
            " 10  fare_amount        10000 non-null  float64\n",
            "dtypes: float64(6), int64(2), object(3)\n",
            "memory usage: 859.5+ KB\n"
          ]
        }
      ]
    },
    {
      "cell_type": "code",
      "source": [
        "#TODO 2: Thống kê cơ bản của dữ liệu\n",
        "#code\n",
        "data.describe()"
      ],
      "metadata": {
        "colab": {
          "base_uri": "https://localhost:8080/",
          "height": 300
        },
        "id": "Lh0jFQrC9ZHt",
        "outputId": "c4c5fe2e-8a4f-46cb-a265-c65f478ecde1"
      },
      "execution_count": 124,
      "outputs": [
        {
          "output_type": "execute_result",
          "data": {
            "text/plain": [
              "       pickup_longitude  pickup_latitude  dropoff_longitude  dropoff_latitude  \\\n",
              "count      10000.000000     10000.000000       10000.000000      10000.000000   \n",
              "mean         -73.978037        40.755818         -73.977756         40.756171   \n",
              "std            0.020262         0.023298           0.020602          0.023622   \n",
              "min          -74.186302        40.582874         -74.186302         40.584736   \n",
              "25%          -73.990891        40.741510         -73.991112         40.741038   \n",
              "50%          -73.981213        40.756903         -73.980431         40.756784   \n",
              "75%          -73.966187        40.771024         -73.965378         40.772141   \n",
              "max          -73.776680        40.918839         -73.778557         40.918770   \n",
              "\n",
              "          rate_code  passenger_count  tolls_amount   fare_amount  \n",
              "count  10000.000000     10000.000000  10000.000000  10000.000000  \n",
              "mean       1.000800         1.660600      0.000533      4.843700  \n",
              "std        0.056566         1.338053      0.053300      0.828275  \n",
              "min        1.000000         0.000000      0.000000      2.500000  \n",
              "25%        1.000000         1.000000      0.000000      4.500000  \n",
              "50%        1.000000         1.000000      0.000000      5.000000  \n",
              "75%        1.000000         2.000000      0.000000      5.500000  \n",
              "max        5.000000         6.000000      5.330000      6.000000  "
            ],
            "text/html": [
              "\n",
              "  <div id=\"df-bccc33c0-e0fb-4ca3-80d8-8882371b79d9\">\n",
              "    <div class=\"colab-df-container\">\n",
              "      <div>\n",
              "<style scoped>\n",
              "    .dataframe tbody tr th:only-of-type {\n",
              "        vertical-align: middle;\n",
              "    }\n",
              "\n",
              "    .dataframe tbody tr th {\n",
              "        vertical-align: top;\n",
              "    }\n",
              "\n",
              "    .dataframe thead th {\n",
              "        text-align: right;\n",
              "    }\n",
              "</style>\n",
              "<table border=\"1\" class=\"dataframe\">\n",
              "  <thead>\n",
              "    <tr style=\"text-align: right;\">\n",
              "      <th></th>\n",
              "      <th>pickup_longitude</th>\n",
              "      <th>pickup_latitude</th>\n",
              "      <th>dropoff_longitude</th>\n",
              "      <th>dropoff_latitude</th>\n",
              "      <th>rate_code</th>\n",
              "      <th>passenger_count</th>\n",
              "      <th>tolls_amount</th>\n",
              "      <th>fare_amount</th>\n",
              "    </tr>\n",
              "  </thead>\n",
              "  <tbody>\n",
              "    <tr>\n",
              "      <th>count</th>\n",
              "      <td>10000.000000</td>\n",
              "      <td>10000.000000</td>\n",
              "      <td>10000.000000</td>\n",
              "      <td>10000.000000</td>\n",
              "      <td>10000.000000</td>\n",
              "      <td>10000.000000</td>\n",
              "      <td>10000.000000</td>\n",
              "      <td>10000.000000</td>\n",
              "    </tr>\n",
              "    <tr>\n",
              "      <th>mean</th>\n",
              "      <td>-73.978037</td>\n",
              "      <td>40.755818</td>\n",
              "      <td>-73.977756</td>\n",
              "      <td>40.756171</td>\n",
              "      <td>1.000800</td>\n",
              "      <td>1.660600</td>\n",
              "      <td>0.000533</td>\n",
              "      <td>4.843700</td>\n",
              "    </tr>\n",
              "    <tr>\n",
              "      <th>std</th>\n",
              "      <td>0.020262</td>\n",
              "      <td>0.023298</td>\n",
              "      <td>0.020602</td>\n",
              "      <td>0.023622</td>\n",
              "      <td>0.056566</td>\n",
              "      <td>1.338053</td>\n",
              "      <td>0.053300</td>\n",
              "      <td>0.828275</td>\n",
              "    </tr>\n",
              "    <tr>\n",
              "      <th>min</th>\n",
              "      <td>-74.186302</td>\n",
              "      <td>40.582874</td>\n",
              "      <td>-74.186302</td>\n",
              "      <td>40.584736</td>\n",
              "      <td>1.000000</td>\n",
              "      <td>0.000000</td>\n",
              "      <td>0.000000</td>\n",
              "      <td>2.500000</td>\n",
              "    </tr>\n",
              "    <tr>\n",
              "      <th>25%</th>\n",
              "      <td>-73.990891</td>\n",
              "      <td>40.741510</td>\n",
              "      <td>-73.991112</td>\n",
              "      <td>40.741038</td>\n",
              "      <td>1.000000</td>\n",
              "      <td>1.000000</td>\n",
              "      <td>0.000000</td>\n",
              "      <td>4.500000</td>\n",
              "    </tr>\n",
              "    <tr>\n",
              "      <th>50%</th>\n",
              "      <td>-73.981213</td>\n",
              "      <td>40.756903</td>\n",
              "      <td>-73.980431</td>\n",
              "      <td>40.756784</td>\n",
              "      <td>1.000000</td>\n",
              "      <td>1.000000</td>\n",
              "      <td>0.000000</td>\n",
              "      <td>5.000000</td>\n",
              "    </tr>\n",
              "    <tr>\n",
              "      <th>75%</th>\n",
              "      <td>-73.966187</td>\n",
              "      <td>40.771024</td>\n",
              "      <td>-73.965378</td>\n",
              "      <td>40.772141</td>\n",
              "      <td>1.000000</td>\n",
              "      <td>2.000000</td>\n",
              "      <td>0.000000</td>\n",
              "      <td>5.500000</td>\n",
              "    </tr>\n",
              "    <tr>\n",
              "      <th>max</th>\n",
              "      <td>-73.776680</td>\n",
              "      <td>40.918839</td>\n",
              "      <td>-73.778557</td>\n",
              "      <td>40.918770</td>\n",
              "      <td>5.000000</td>\n",
              "      <td>6.000000</td>\n",
              "      <td>5.330000</td>\n",
              "      <td>6.000000</td>\n",
              "    </tr>\n",
              "  </tbody>\n",
              "</table>\n",
              "</div>\n",
              "      <button class=\"colab-df-convert\" onclick=\"convertToInteractive('df-bccc33c0-e0fb-4ca3-80d8-8882371b79d9')\"\n",
              "              title=\"Convert this dataframe to an interactive table.\"\n",
              "              style=\"display:none;\">\n",
              "        \n",
              "  <svg xmlns=\"http://www.w3.org/2000/svg\" height=\"24px\"viewBox=\"0 0 24 24\"\n",
              "       width=\"24px\">\n",
              "    <path d=\"M0 0h24v24H0V0z\" fill=\"none\"/>\n",
              "    <path d=\"M18.56 5.44l.94 2.06.94-2.06 2.06-.94-2.06-.94-.94-2.06-.94 2.06-2.06.94zm-11 1L8.5 8.5l.94-2.06 2.06-.94-2.06-.94L8.5 2.5l-.94 2.06-2.06.94zm10 10l.94 2.06.94-2.06 2.06-.94-2.06-.94-.94-2.06-.94 2.06-2.06.94z\"/><path d=\"M17.41 7.96l-1.37-1.37c-.4-.4-.92-.59-1.43-.59-.52 0-1.04.2-1.43.59L10.3 9.45l-7.72 7.72c-.78.78-.78 2.05 0 2.83L4 21.41c.39.39.9.59 1.41.59.51 0 1.02-.2 1.41-.59l7.78-7.78 2.81-2.81c.8-.78.8-2.07 0-2.86zM5.41 20L4 18.59l7.72-7.72 1.47 1.35L5.41 20z\"/>\n",
              "  </svg>\n",
              "      </button>\n",
              "      \n",
              "  <style>\n",
              "    .colab-df-container {\n",
              "      display:flex;\n",
              "      flex-wrap:wrap;\n",
              "      gap: 12px;\n",
              "    }\n",
              "\n",
              "    .colab-df-convert {\n",
              "      background-color: #E8F0FE;\n",
              "      border: none;\n",
              "      border-radius: 50%;\n",
              "      cursor: pointer;\n",
              "      display: none;\n",
              "      fill: #1967D2;\n",
              "      height: 32px;\n",
              "      padding: 0 0 0 0;\n",
              "      width: 32px;\n",
              "    }\n",
              "\n",
              "    .colab-df-convert:hover {\n",
              "      background-color: #E2EBFA;\n",
              "      box-shadow: 0px 1px 2px rgba(60, 64, 67, 0.3), 0px 1px 3px 1px rgba(60, 64, 67, 0.15);\n",
              "      fill: #174EA6;\n",
              "    }\n",
              "\n",
              "    [theme=dark] .colab-df-convert {\n",
              "      background-color: #3B4455;\n",
              "      fill: #D2E3FC;\n",
              "    }\n",
              "\n",
              "    [theme=dark] .colab-df-convert:hover {\n",
              "      background-color: #434B5C;\n",
              "      box-shadow: 0px 1px 3px 1px rgba(0, 0, 0, 0.15);\n",
              "      filter: drop-shadow(0px 1px 2px rgba(0, 0, 0, 0.3));\n",
              "      fill: #FFFFFF;\n",
              "    }\n",
              "  </style>\n",
              "\n",
              "      <script>\n",
              "        const buttonEl =\n",
              "          document.querySelector('#df-bccc33c0-e0fb-4ca3-80d8-8882371b79d9 button.colab-df-convert');\n",
              "        buttonEl.style.display =\n",
              "          google.colab.kernel.accessAllowed ? 'block' : 'none';\n",
              "\n",
              "        async function convertToInteractive(key) {\n",
              "          const element = document.querySelector('#df-bccc33c0-e0fb-4ca3-80d8-8882371b79d9');\n",
              "          const dataTable =\n",
              "            await google.colab.kernel.invokeFunction('convertToInteractive',\n",
              "                                                     [key], {});\n",
              "          if (!dataTable) return;\n",
              "\n",
              "          const docLinkHtml = 'Like what you see? Visit the ' +\n",
              "            '<a target=\"_blank\" href=https://colab.research.google.com/notebooks/data_table.ipynb>data table notebook</a>'\n",
              "            + ' to learn more about interactive tables.';\n",
              "          element.innerHTML = '';\n",
              "          dataTable['output_type'] = 'display_data';\n",
              "          await google.colab.output.renderOutput(dataTable, element);\n",
              "          const docLink = document.createElement('div');\n",
              "          docLink.innerHTML = docLinkHtml;\n",
              "          element.appendChild(docLink);\n",
              "        }\n",
              "      </script>\n",
              "    </div>\n",
              "  </div>\n",
              "  "
            ]
          },
          "metadata": {},
          "execution_count": 124
        }
      ]
    },
    {
      "cell_type": "markdown",
      "source": [
        "## Visualyze data"
      ],
      "metadata": {
        "id": "Msfr-4Rcd9_0"
      }
    },
    {
      "cell_type": "code",
      "source": [
        "sns.pairplot(data)"
      ],
      "metadata": {
        "colab": {
          "base_uri": "https://localhost:8080/",
          "height": 1000
        },
        "id": "wJVCyepceCm5",
        "outputId": "181fd3a8-1f68-48e9-cc8e-c63191584111"
      },
      "execution_count": 56,
      "outputs": [
        {
          "output_type": "execute_result",
          "data": {
            "text/plain": [
              "<seaborn.axisgrid.PairGrid at 0x7f88fe87fc10>"
            ]
          },
          "metadata": {},
          "execution_count": 56
        },
        {
          "output_type": "display_data",
          "data": {
            "text/plain": [
              "<Figure size 1440x1440 with 72 Axes>"
            ],
            "image/png": "[encoded data removed]"
          },
          "metadata": {
            "needs_background": "light"
          }
        }
      ]
    },
    {
      "cell_type": "code",
      "source": [
        "sns.histplot(data)"
      ],
      "metadata": {
        "colab": {
          "base_uri": "https://localhost:8080/",
          "height": 282
        },
        "id": "z3NI1M6HebOc",
        "outputId": "6c7615b1-59b5-4ca9-db78-317a0bee43d9"
      },
      "execution_count": 57,
      "outputs": [
        {
          "output_type": "execute_result",
          "data": {
            "text/plain": [
              "<matplotlib.axes._subplots.AxesSubplot at 0x7f88fd2cd090>"
            ]
          },
          "metadata": {},
          "execution_count": 57
        },
        {
          "output_type": "display_data",
          "data": {
            "text/plain": [
              "<Figure size 432x288 with 1 Axes>"
            ],
            "image/png": "[encoded data removed]"
          },
          "metadata": {
            "needs_background": "light"
          }
        }
      ]
    },
    {
      "cell_type": "markdown",
      "source": [
        "**Nhận xét về dữ liệu**\n",
        "\n",
        "\n",
        "```\n",
        "#TODO 3:\n",
        "```\n",
        "- Các trường numerical: ...\n",
        "\n",
        "- Các trường categorical: ...\n"
      ],
      "metadata": {
        "id": "E9sPkMbQjvQj"
      }
    },
    {
      "cell_type": "markdown",
      "source": [
        "## Clean / Extract data"
      ],
      "metadata": {
        "id": "ccOXhty-kFcd"
      }
    },
    {
      "cell_type": "markdown",
      "source": [
        "**Extract feature** day, hour từ pickup_datetime"
      ],
      "metadata": {
        "id": "SZlp-O2QqWud"
      }
    },
    {
      "cell_type": "code",
      "source": [
        "# Đưa trường datetime về đúng định dạng\n",
        "data['pickup_datetime'] = pd.to_datetime(data['pickup_datetime'])\n",
        "data['dropoff_datetime'] = pd.to_datetime(data['dropoff_datetime'])"
      ],
      "metadata": {
        "id": "yh8s8uvSkoaM"
      },
      "execution_count": 125,
      "outputs": []
    },
    {
      "cell_type": "code",
      "source": [
        "# Extract dayofweek, hourofday\n",
        "data['day'] = data['pickup_datetime'].dt.dayofweek\n",
        "data['hour'] = data['pickup_datetime'].dt.hour"
      ],
      "metadata": {
        "id": "XbOJDikAkD9p"
      },
      "execution_count": 126,
      "outputs": []
    },
    {
      "cell_type": "code",
      "source": [
        "data = data.drop(['pickup_datetime','dropoff_datetime'],axis=1)"
      ],
      "metadata": {
        "id": "OsEaTTZKu9u9"
      },
      "execution_count": 127,
      "outputs": []
    },
    {
      "cell_type": "markdown",
      "source": [
        "fare_amount được cộng dồn từ phí taxi + phí đường bộ"
      ],
      "metadata": {
        "id": "4c7ynbUsqgie"
      }
    },
    {
      "cell_type": "code",
      "source": [
        "data['fare_amount'] = data['fare_amount'] + data['tolls_amount']\n",
        "data = data.drop('tolls_amount',axis=1)"
      ],
      "metadata": {
        "id": "3uN3OxOSmHev"
      },
      "execution_count": 128,
      "outputs": []
    },
    {
      "cell_type": "markdown",
      "source": [
        "Xóa **Outlier** với passenger_count = 0 "
      ],
      "metadata": {
        "id": "6UajuQ-OdpMU"
      }
    },
    {
      "cell_type": "code",
      "source": [
        "data = data[data['passenger_count'] !=0].reset_index(drop=True)"
      ],
      "metadata": {
        "id": "VwoC4PvldoKQ"
      },
      "execution_count": 129,
      "outputs": []
    },
    {
      "cell_type": "code",
      "source": [
        "# backup raw data\n",
        "data_raw = data"
      ],
      "metadata": {
        "id": "vsD3XzFji7Mk"
      },
      "execution_count": 131,
      "outputs": []
    },
    {
      "cell_type": "markdown",
      "source": [
        "Check lại dữ liệu"
      ],
      "metadata": {
        "id": "Ftifsp5-e0wP"
      }
    },
    {
      "cell_type": "code",
      "source": [
        "data.head(5)"
      ],
      "metadata": {
        "colab": {
          "base_uri": "https://localhost:8080/",
          "height": 206
        },
        "id": "GXy1egPXlk44",
        "outputId": "7c158586-e495-4a57-dc0f-13d97d385d02"
      },
      "execution_count": 132,
      "outputs": [
        {
          "output_type": "execute_result",
          "data": {
            "text/plain": [
              "  vendor_id  pickup_longitude  pickup_latitude  dropoff_longitude  \\\n",
              "0       VTS        -73.989525        40.735950         -73.988747   \n",
              "1       VTS        -73.987953        40.743717         -73.945580   \n",
              "2       CMT        -73.977577        40.757839         -73.978226   \n",
              "3       CMT        -73.992142        40.739388         -73.992096   \n",
              "4       VTS        -74.004471        40.721657         -74.004333   \n",
              "\n",
              "   dropoff_latitude  rate_code  passenger_count  fare_amount  day  hour  \n",
              "0         40.736984          1                6          2.5    1    20  \n",
              "1         40.829327          1                1          2.5    4     0  \n",
              "2         40.758121          1                1          2.5    3     1  \n",
              "3         40.739491          1                1          2.5    4    18  \n",
              "4         40.721790          1                5          2.5    3    17  "
            ],
            "text/html": [
              "\n",
              "  <div id=\"df-2df36288-3dd0-4b08-9618-ac0c60cd6aa3\">\n",
              "    <div class=\"colab-df-container\">\n",
              "      <div>\n",
              "<style scoped>\n",
              "    .dataframe tbody tr th:only-of-type {\n",
              "        vertical-align: middle;\n",
              "    }\n",
              "\n",
              "    .dataframe tbody tr th {\n",
              "        vertical-align: top;\n",
              "    }\n",
              "\n",
              "    .dataframe thead th {\n",
              "        text-align: right;\n",
              "    }\n",
              "</style>\n",
              "<table border=\"1\" class=\"dataframe\">\n",
              "  <thead>\n",
              "    <tr style=\"text-align: right;\">\n",
              "      <th></th>\n",
              "      <th>vendor_id</th>\n",
              "      <th>pickup_longitude</th>\n",
              "      <th>pickup_latitude</th>\n",
              "      <th>dropoff_longitude</th>\n",
              "      <th>dropoff_latitude</th>\n",
              "      <th>rate_code</th>\n",
              "      <th>passenger_count</th>\n",
              "      <th>fare_amount</th>\n",
              "      <th>day</th>\n",
              "      <th>hour</th>\n",
              "    </tr>\n",
              "  </thead>\n",
              "  <tbody>\n",
              "    <tr>\n",
              "      <th>0</th>\n",
              "      <td>VTS</td>\n",
              "      <td>-73.989525</td>\n",
              "      <td>40.735950</td>\n",
              "      <td>-73.988747</td>\n",
              "      <td>40.736984</td>\n",
              "      <td>1</td>\n",
              "      <td>6</td>\n",
              "      <td>2.5</td>\n",
              "      <td>1</td>\n",
              "      <td>20</td>\n",
              "    </tr>\n",
              "    <tr>\n",
              "      <th>1</th>\n",
              "      <td>VTS</td>\n",
              "      <td>-73.987953</td>\n",
              "      <td>40.743717</td>\n",
              "      <td>-73.945580</td>\n",
              "      <td>40.829327</td>\n",
              "      <td>1</td>\n",
              "      <td>1</td>\n",
              "      <td>2.5</td>\n",
              "      <td>4</td>\n",
              "      <td>0</td>\n",
              "    </tr>\n",
              "    <tr>\n",
              "      <th>2</th>\n",
              "      <td>CMT</td>\n",
              "      <td>-73.977577</td>\n",
              "      <td>40.757839</td>\n",
              "      <td>-73.978226</td>\n",
              "      <td>40.758121</td>\n",
              "      <td>1</td>\n",
              "      <td>1</td>\n",
              "      <td>2.5</td>\n",
              "      <td>3</td>\n",
              "      <td>1</td>\n",
              "    </tr>\n",
              "    <tr>\n",
              "      <th>3</th>\n",
              "      <td>CMT</td>\n",
              "      <td>-73.992142</td>\n",
              "      <td>40.739388</td>\n",
              "      <td>-73.992096</td>\n",
              "      <td>40.739491</td>\n",
              "      <td>1</td>\n",
              "      <td>1</td>\n",
              "      <td>2.5</td>\n",
              "      <td>4</td>\n",
              "      <td>18</td>\n",
              "    </tr>\n",
              "    <tr>\n",
              "      <th>4</th>\n",
              "      <td>VTS</td>\n",
              "      <td>-74.004471</td>\n",
              "      <td>40.721657</td>\n",
              "      <td>-74.004333</td>\n",
              "      <td>40.721790</td>\n",
              "      <td>1</td>\n",
              "      <td>5</td>\n",
              "      <td>2.5</td>\n",
              "      <td>3</td>\n",
              "      <td>17</td>\n",
              "    </tr>\n",
              "  </tbody>\n",
              "</table>\n",
              "</div>\n",
              "      <button class=\"colab-df-convert\" onclick=\"convertToInteractive('df-2df36288-3dd0-4b08-9618-ac0c60cd6aa3')\"\n",
              "              title=\"Convert this dataframe to an interactive table.\"\n",
              "              style=\"display:none;\">\n",
              "        \n",
              "  <svg xmlns=\"http://www.w3.org/2000/svg\" height=\"24px\"viewBox=\"0 0 24 24\"\n",
              "       width=\"24px\">\n",
              "    <path d=\"M0 0h24v24H0V0z\" fill=\"none\"/>\n",
              "    <path d=\"M18.56 5.44l.94 2.06.94-2.06 2.06-.94-2.06-.94-.94-2.06-.94 2.06-2.06.94zm-11 1L8.5 8.5l.94-2.06 2.06-.94-2.06-.94L8.5 2.5l-.94 2.06-2.06.94zm10 10l.94 2.06.94-2.06 2.06-.94-2.06-.94-.94-2.06-.94 2.06-2.06.94z\"/><path d=\"M17.41 7.96l-1.37-1.37c-.4-.4-.92-.59-1.43-.59-.52 0-1.04.2-1.43.59L10.3 9.45l-7.72 7.72c-.78.78-.78 2.05 0 2.83L4 21.41c.39.39.9.59 1.41.59.51 0 1.02-.2 1.41-.59l7.78-7.78 2.81-2.81c.8-.78.8-2.07 0-2.86zM5.41 20L4 18.59l7.72-7.72 1.47 1.35L5.41 20z\"/>\n",
              "  </svg>\n",
              "      </button>\n",
              "      \n",
              "  <style>\n",
              "    .colab-df-container {\n",
              "      display:flex;\n",
              "      flex-wrap:wrap;\n",
              "      gap: 12px;\n",
              "    }\n",
              "\n",
              "    .colab-df-convert {\n",
              "      background-color: #E8F0FE;\n",
              "      border: none;\n",
              "      border-radius: 50%;\n",
              "      cursor: pointer;\n",
              "      display: none;\n",
              "      fill: #1967D2;\n",
              "      height: 32px;\n",
              "      padding: 0 0 0 0;\n",
              "      width: 32px;\n",
              "    }\n",
              "\n",
              "    .colab-df-convert:hover {\n",
              "      background-color: #E2EBFA;\n",
              "      box-shadow: 0px 1px 2px rgba(60, 64, 67, 0.3), 0px 1px 3px 1px rgba(60, 64, 67, 0.15);\n",
              "      fill: #174EA6;\n",
              "    }\n",
              "\n",
              "    [theme=dark] .colab-df-convert {\n",
              "      background-color: #3B4455;\n",
              "      fill: #D2E3FC;\n",
              "    }\n",
              "\n",
              "    [theme=dark] .colab-df-convert:hover {\n",
              "      background-color: #434B5C;\n",
              "      box-shadow: 0px 1px 3px 1px rgba(0, 0, 0, 0.15);\n",
              "      filter: drop-shadow(0px 1px 2px rgba(0, 0, 0, 0.3));\n",
              "      fill: #FFFFFF;\n",
              "    }\n",
              "  </style>\n",
              "\n",
              "      <script>\n",
              "        const buttonEl =\n",
              "          document.querySelector('#df-2df36288-3dd0-4b08-9618-ac0c60cd6aa3 button.colab-df-convert');\n",
              "        buttonEl.style.display =\n",
              "          google.colab.kernel.accessAllowed ? 'block' : 'none';\n",
              "\n",
              "        async function convertToInteractive(key) {\n",
              "          const element = document.querySelector('#df-2df36288-3dd0-4b08-9618-ac0c60cd6aa3');\n",
              "          const dataTable =\n",
              "            await google.colab.kernel.invokeFunction('convertToInteractive',\n",
              "                                                     [key], {});\n",
              "          if (!dataTable) return;\n",
              "\n",
              "          const docLinkHtml = 'Like what you see? Visit the ' +\n",
              "            '<a target=\"_blank\" href=https://colab.research.google.com/notebooks/data_table.ipynb>data table notebook</a>'\n",
              "            + ' to learn more about interactive tables.';\n",
              "          element.innerHTML = '';\n",
              "          dataTable['output_type'] = 'display_data';\n",
              "          await google.colab.output.renderOutput(dataTable, element);\n",
              "          const docLink = document.createElement('div');\n",
              "          docLink.innerHTML = docLinkHtml;\n",
              "          element.appendChild(docLink);\n",
              "        }\n",
              "      </script>\n",
              "    </div>\n",
              "  </div>\n",
              "  "
            ]
          },
          "metadata": {},
          "execution_count": 132
        }
      ]
    },
    {
      "cell_type": "markdown",
      "source": [
        "## Baseline model"
      ],
      "metadata": {
        "id": "10CXM3UvjyiY"
      }
    },
    {
      "cell_type": "markdown",
      "source": [
        "👉 Trong thực tế, luôn nên xây dựng baseline model. Nó làm cơ sở để so sánh những bước xử lý dữ liệu về sau hiệu quả như thế nào"
      ],
      "metadata": {
        "id": "MZ96rwwUp5e9"
      }
    },
    {
      "cell_type": "code",
      "source": [
        "num_columns = ['pickup_longitude','pickup_latitude','dropoff_longitude','dropoff_latitude','rate_code','passenger_count','day','hour']\n",
        "X = data[num_columns]\n",
        "y = data['fare_amount']"
      ],
      "metadata": {
        "id": "cVQAE-b6j15N"
      },
      "execution_count": 133,
      "outputs": []
    },
    {
      "cell_type": "code",
      "source": [
        "# Sử dụng model LinearRegression đơn giản\n",
        "from sklearn.linear_model import LinearRegression\n",
        "from sklearn.model_selection import train_test_split\n",
        "# TODO 4: Hoàn thành việc phân chia dữ liệu train/ test\n",
        "X_train, X_test, y_train, y_test = train_test_split(X,y,test_size=0.2, random_state=69)"
      ],
      "metadata": {
        "id": "6vn2ybhXmF-6"
      },
      "execution_count": 134,
      "outputs": []
    },
    {
      "cell_type": "code",
      "source": [
        "print('train row count: {}'.format(X_train.shape[0]))\n",
        "print(y_train.count())\n",
        "print('test row count: {}'.format(X_test.shape[0]))\n",
        "print(y_test.count())"
      ],
      "metadata": {
        "colab": {
          "base_uri": "https://localhost:8080/"
        },
        "id": "89PmHZQcnlM1",
        "outputId": "c03b4500-ceb4-4d0b-ff2d-07f845e2dbdb"
      },
      "execution_count": 135,
      "outputs": [
        {
          "output_type": "stream",
          "name": "stdout",
          "text": [
            "train row count: 7994\n",
            "7994\n",
            "test row count: 1999\n",
            "1999\n"
          ]
        }
      ]
    },
    {
      "cell_type": "code",
      "source": [
        "# model\n",
        "model = LinearRegression()\n",
        "# training model\n",
        "model.fit(X_train, y_train)"
      ],
      "metadata": {
        "colab": {
          "base_uri": "https://localhost:8080/"
        },
        "id": "p2ZAQS4Cnzof",
        "outputId": "2d737b47-2912-45c9-8a39-71262d35ede2"
      },
      "execution_count": 136,
      "outputs": [
        {
          "output_type": "execute_result",
          "data": {
            "text/plain": [
              "LinearRegression()"
            ]
          },
          "metadata": {},
          "execution_count": 136
        }
      ]
    },
    {
      "cell_type": "markdown",
      "source": [
        "**Đánh giá mô hình baseline**\n",
        "\n",
        "Nhắc lại về các loss metric đánh giá mô hình\n",
        "\n",
        "MAE\n",
        "\n",
        "MSE\n",
        "\n",
        "RMSE"
      ],
      "metadata": {
        "id": "nSllsWZup1E9"
      }
    },
    {
      "cell_type": "code",
      "source": [
        "from sklearn.metrics import mean_squared_error\n",
        "\n",
        "y_predict = model.predict(X_test)\n",
        "# Kiểm tra loss của model\n",
        "mean_squared_error(y_test, y_predict) "
      ],
      "metadata": {
        "colab": {
          "base_uri": "https://localhost:8080/"
        },
        "id": "f8eXAcZkoWIl",
        "outputId": "1e5979d4-2f36-49d4-e56a-58d13b2f37b4"
      },
      "execution_count": 137,
      "outputs": [
        {
          "output_type": "execute_result",
          "data": {
            "text/plain": [
              "0.6969467450394811"
            ]
          },
          "metadata": {},
          "execution_count": 137
        }
      ]
    },
    {
      "cell_type": "markdown",
      "source": [
        "## Feature Engineering"
      ],
      "metadata": {
        "id": "ktRR3bAAsA3B"
      }
    },
    {
      "cell_type": "code",
      "source": [
        "data"
      ],
      "metadata": {
        "colab": {
          "base_uri": "https://localhost:8080/",
          "height": 424
        },
        "id": "kNoRr0hkA_Uo",
        "outputId": "63a02a54-8f17-428d-ee83-3473f0de7f79"
      },
      "execution_count": 138,
      "outputs": [
        {
          "output_type": "execute_result",
          "data": {
            "text/plain": [
              "     vendor_id  pickup_longitude  pickup_latitude  dropoff_longitude  \\\n",
              "0          VTS        -73.989525        40.735950         -73.988747   \n",
              "1          VTS        -73.987953        40.743717         -73.945580   \n",
              "2          CMT        -73.977577        40.757839         -73.978226   \n",
              "3          CMT        -73.992142        40.739388         -73.992096   \n",
              "4          VTS        -74.004471        40.721657         -74.004333   \n",
              "...        ...               ...              ...                ...   \n",
              "9988       VTS        -73.978203        40.748501         -73.989586   \n",
              "9989       CMT        -74.002960        40.733433         -74.003677   \n",
              "9990       VTS        -73.977112        40.787426         -73.967957   \n",
              "9991       CMT        -73.973511        40.763817         -73.974014   \n",
              "9992       CMT        -73.983841        40.738144         -73.974525   \n",
              "\n",
              "      dropoff_latitude  rate_code  passenger_count  fare_amount  day  hour  \n",
              "0            40.736984          1                6          2.5    1    20  \n",
              "1            40.829327          1                1          2.5    4     0  \n",
              "2            40.758121          1                1          2.5    3     1  \n",
              "3            40.739491          1                1          2.5    4    18  \n",
              "4            40.721790          1                5          2.5    3    17  \n",
              "...                ...        ...              ...          ...  ...   ...  \n",
              "9988         40.735413          1                2          6.0    4     8  \n",
              "9989         40.722553          1                1          6.0    0    18  \n",
              "9990         40.800926          1                1          6.0    5    18  \n",
              "9991         40.755287          1                1          6.0    4     7  \n",
              "9992         40.744331          1                1          6.0    4    18  \n",
              "\n",
              "[9993 rows x 10 columns]"
            ],
            "text/html": [
              "\n",
              "  <div id=\"df-63027429-1eef-4510-b0ad-022c801d9a33\">\n",
              "    <div class=\"colab-df-container\">\n",
              "      <div>\n",
              "<style scoped>\n",
              "    .dataframe tbody tr th:only-of-type {\n",
              "        vertical-align: middle;\n",
              "    }\n",
              "\n",
              "    .dataframe tbody tr th {\n",
              "        vertical-align: top;\n",
              "    }\n",
              "\n",
              "    .dataframe thead th {\n",
              "        text-align: right;\n",
              "    }\n",
              "</style>\n",
              "<table border=\"1\" class=\"dataframe\">\n",
              "  <thead>\n",
              "    <tr style=\"text-align: right;\">\n",
              "      <th></th>\n",
              "      <th>vendor_id</th>\n",
              "      <th>pickup_longitude</th>\n",
              "      <th>pickup_latitude</th>\n",
              "      <th>dropoff_longitude</th>\n",
              "      <th>dropoff_latitude</th>\n",
              "      <th>rate_code</th>\n",
              "      <th>passenger_count</th>\n",
              "      <th>fare_amount</th>\n",
              "      <th>day</th>\n",
              "      <th>hour</th>\n",
              "    </tr>\n",
              "  </thead>\n",
              "  <tbody>\n",
              "    <tr>\n",
              "      <th>0</th>\n",
              "      <td>VTS</td>\n",
              "      <td>-73.989525</td>\n",
              "      <td>40.735950</td>\n",
              "      <td>-73.988747</td>\n",
              "      <td>40.736984</td>\n",
              "      <td>1</td>\n",
              "      <td>6</td>\n",
              "      <td>2.5</td>\n",
              "      <td>1</td>\n",
              "      <td>20</td>\n",
              "    </tr>\n",
              "    <tr>\n",
              "      <th>1</th>\n",
              "      <td>VTS</td>\n",
              "      <td>-73.987953</td>\n",
              "      <td>40.743717</td>\n",
              "      <td>-73.945580</td>\n",
              "      <td>40.829327</td>\n",
              "      <td>1</td>\n",
              "      <td>1</td>\n",
              "      <td>2.5</td>\n",
              "      <td>4</td>\n",
              "      <td>0</td>\n",
              "    </tr>\n",
              "    <tr>\n",
              "      <th>2</th>\n",
              "      <td>CMT</td>\n",
              "      <td>-73.977577</td>\n",
              "      <td>40.757839</td>\n",
              "      <td>-73.978226</td>\n",
              "      <td>40.758121</td>\n",
              "      <td>1</td>\n",
              "      <td>1</td>\n",
              "      <td>2.5</td>\n",
              "      <td>3</td>\n",
              "      <td>1</td>\n",
              "    </tr>\n",
              "    <tr>\n",
              "      <th>3</th>\n",
              "      <td>CMT</td>\n",
              "      <td>-73.992142</td>\n",
              "      <td>40.739388</td>\n",
              "      <td>-73.992096</td>\n",
              "      <td>40.739491</td>\n",
              "      <td>1</td>\n",
              "      <td>1</td>\n",
              "      <td>2.5</td>\n",
              "      <td>4</td>\n",
              "      <td>18</td>\n",
              "    </tr>\n",
              "    <tr>\n",
              "      <th>4</th>\n",
              "      <td>VTS</td>\n",
              "      <td>-74.004471</td>\n",
              "      <td>40.721657</td>\n",
              "      <td>-74.004333</td>\n",
              "      <td>40.721790</td>\n",
              "      <td>1</td>\n",
              "      <td>5</td>\n",
              "      <td>2.5</td>\n",
              "      <td>3</td>\n",
              "      <td>17</td>\n",
              "    </tr>\n",
              "    <tr>\n",
              "      <th>...</th>\n",
              "      <td>...</td>\n",
              "      <td>...</td>\n",
              "      <td>...</td>\n",
              "      <td>...</td>\n",
              "      <td>...</td>\n",
              "      <td>...</td>\n",
              "      <td>...</td>\n",
              "      <td>...</td>\n",
              "      <td>...</td>\n",
              "      <td>...</td>\n",
              "    </tr>\n",
              "    <tr>\n",
              "      <th>9988</th>\n",
              "      <td>VTS</td>\n",
              "      <td>-73.978203</td>\n",
              "      <td>40.748501</td>\n",
              "      <td>-73.989586</td>\n",
              "      <td>40.735413</td>\n",
              "      <td>1</td>\n",
              "      <td>2</td>\n",
              "      <td>6.0</td>\n",
              "      <td>4</td>\n",
              "      <td>8</td>\n",
              "    </tr>\n",
              "    <tr>\n",
              "      <th>9989</th>\n",
              "      <td>CMT</td>\n",
              "      <td>-74.002960</td>\n",
              "      <td>40.733433</td>\n",
              "      <td>-74.003677</td>\n",
              "      <td>40.722553</td>\n",
              "      <td>1</td>\n",
              "      <td>1</td>\n",
              "      <td>6.0</td>\n",
              "      <td>0</td>\n",
              "      <td>18</td>\n",
              "    </tr>\n",
              "    <tr>\n",
              "      <th>9990</th>\n",
              "      <td>VTS</td>\n",
              "      <td>-73.977112</td>\n",
              "      <td>40.787426</td>\n",
              "      <td>-73.967957</td>\n",
              "      <td>40.800926</td>\n",
              "      <td>1</td>\n",
              "      <td>1</td>\n",
              "      <td>6.0</td>\n",
              "      <td>5</td>\n",
              "      <td>18</td>\n",
              "    </tr>\n",
              "    <tr>\n",
              "      <th>9991</th>\n",
              "      <td>CMT</td>\n",
              "      <td>-73.973511</td>\n",
              "      <td>40.763817</td>\n",
              "      <td>-73.974014</td>\n",
              "      <td>40.755287</td>\n",
              "      <td>1</td>\n",
              "      <td>1</td>\n",
              "      <td>6.0</td>\n",
              "      <td>4</td>\n",
              "      <td>7</td>\n",
              "    </tr>\n",
              "    <tr>\n",
              "      <th>9992</th>\n",
              "      <td>CMT</td>\n",
              "      <td>-73.983841</td>\n",
              "      <td>40.738144</td>\n",
              "      <td>-73.974525</td>\n",
              "      <td>40.744331</td>\n",
              "      <td>1</td>\n",
              "      <td>1</td>\n",
              "      <td>6.0</td>\n",
              "      <td>4</td>\n",
              "      <td>18</td>\n",
              "    </tr>\n",
              "  </tbody>\n",
              "</table>\n",
              "<p>9993 rows × 10 columns</p>\n",
              "</div>\n",
              "      <button class=\"colab-df-convert\" onclick=\"convertToInteractive('df-63027429-1eef-4510-b0ad-022c801d9a33')\"\n",
              "              title=\"Convert this dataframe to an interactive table.\"\n",
              "              style=\"display:none;\">\n",
              "        \n",
              "  <svg xmlns=\"http://www.w3.org/2000/svg\" height=\"24px\"viewBox=\"0 0 24 24\"\n",
              "       width=\"24px\">\n",
              "    <path d=\"M0 0h24v24H0V0z\" fill=\"none\"/>\n",
              "    <path d=\"M18.56 5.44l.94 2.06.94-2.06 2.06-.94-2.06-.94-.94-2.06-.94 2.06-2.06.94zm-11 1L8.5 8.5l.94-2.06 2.06-.94-2.06-.94L8.5 2.5l-.94 2.06-2.06.94zm10 10l.94 2.06.94-2.06 2.06-.94-2.06-.94-.94-2.06-.94 2.06-2.06.94z\"/><path d=\"M17.41 7.96l-1.37-1.37c-.4-.4-.92-.59-1.43-.59-.52 0-1.04.2-1.43.59L10.3 9.45l-7.72 7.72c-.78.78-.78 2.05 0 2.83L4 21.41c.39.39.9.59 1.41.59.51 0 1.02-.2 1.41-.59l7.78-7.78 2.81-2.81c.8-.78.8-2.07 0-2.86zM5.41 20L4 18.59l7.72-7.72 1.47 1.35L5.41 20z\"/>\n",
              "  </svg>\n",
              "      </button>\n",
              "      \n",
              "  <style>\n",
              "    .colab-df-container {\n",
              "      display:flex;\n",
              "      flex-wrap:wrap;\n",
              "      gap: 12px;\n",
              "    }\n",
              "\n",
              "    .colab-df-convert {\n",
              "      background-color: #E8F0FE;\n",
              "      border: none;\n",
              "      border-radius: 50%;\n",
              "      cursor: pointer;\n",
              "      display: none;\n",
              "      fill: #1967D2;\n",
              "      height: 32px;\n",
              "      padding: 0 0 0 0;\n",
              "      width: 32px;\n",
              "    }\n",
              "\n",
              "    .colab-df-convert:hover {\n",
              "      background-color: #E2EBFA;\n",
              "      box-shadow: 0px 1px 2px rgba(60, 64, 67, 0.3), 0px 1px 3px 1px rgba(60, 64, 67, 0.15);\n",
              "      fill: #174EA6;\n",
              "    }\n",
              "\n",
              "    [theme=dark] .colab-df-convert {\n",
              "      background-color: #3B4455;\n",
              "      fill: #D2E3FC;\n",
              "    }\n",
              "\n",
              "    [theme=dark] .colab-df-convert:hover {\n",
              "      background-color: #434B5C;\n",
              "      box-shadow: 0px 1px 3px 1px rgba(0, 0, 0, 0.15);\n",
              "      filter: drop-shadow(0px 1px 2px rgba(0, 0, 0, 0.3));\n",
              "      fill: #FFFFFF;\n",
              "    }\n",
              "  </style>\n",
              "\n",
              "      <script>\n",
              "        const buttonEl =\n",
              "          document.querySelector('#df-63027429-1eef-4510-b0ad-022c801d9a33 button.colab-df-convert');\n",
              "        buttonEl.style.display =\n",
              "          google.colab.kernel.accessAllowed ? 'block' : 'none';\n",
              "\n",
              "        async function convertToInteractive(key) {\n",
              "          const element = document.querySelector('#df-63027429-1eef-4510-b0ad-022c801d9a33');\n",
              "          const dataTable =\n",
              "            await google.colab.kernel.invokeFunction('convertToInteractive',\n",
              "                                                     [key], {});\n",
              "          if (!dataTable) return;\n",
              "\n",
              "          const docLinkHtml = 'Like what you see? Visit the ' +\n",
              "            '<a target=\"_blank\" href=https://colab.research.google.com/notebooks/data_table.ipynb>data table notebook</a>'\n",
              "            + ' to learn more about interactive tables.';\n",
              "          element.innerHTML = '';\n",
              "          dataTable['output_type'] = 'display_data';\n",
              "          await google.colab.output.renderOutput(dataTable, element);\n",
              "          const docLink = document.createElement('div');\n",
              "          docLink.innerHTML = docLinkHtml;\n",
              "          element.appendChild(docLink);\n",
              "        }\n",
              "      </script>\n",
              "    </div>\n",
              "  </div>\n",
              "  "
            ]
          },
          "metadata": {},
          "execution_count": 138
        }
      ]
    },
    {
      "cell_type": "markdown",
      "source": [
        "**One-hot encode**"
      ],
      "metadata": {
        "id": "2GXnFrDCsKv2"
      }
    },
    {
      "cell_type": "code",
      "source": [
        "# Sử dụng OneHotEncoder\n",
        "from sklearn.preprocessing import OneHotEncoder\n",
        "onehot = OneHotEncoder(sparse=False)\n",
        "\n",
        "onehot_encoded_vendor= onehot.fit_transform(data[[\"vendor_id\"]])"
      ],
      "metadata": {
        "id": "xhGdmVHRsJB_"
      },
      "execution_count": 139,
      "outputs": []
    },
    {
      "cell_type": "code",
      "source": [
        "data = data.drop('vendor_id',axis=1)\n",
        "df_vendor = pd.DataFrame(onehot_encoded_vendor,columns = onehot.get_feature_names_out(['vendor_id']))\n",
        "# concat\n",
        "data = pd.concat([data,df_vendor],axis = 1)\n",
        "data"
      ],
      "metadata": {
        "colab": {
          "base_uri": "https://localhost:8080/",
          "height": 424
        },
        "id": "I0u9DXTIubr3",
        "outputId": "8d8acf04-d84c-49bd-fcf6-da6a4605370b"
      },
      "execution_count": 140,
      "outputs": [
        {
          "output_type": "execute_result",
          "data": {
            "text/plain": [
              "      pickup_longitude  pickup_latitude  dropoff_longitude  dropoff_latitude  \\\n",
              "0           -73.989525        40.735950         -73.988747         40.736984   \n",
              "1           -73.987953        40.743717         -73.945580         40.829327   \n",
              "2           -73.977577        40.757839         -73.978226         40.758121   \n",
              "3           -73.992142        40.739388         -73.992096         40.739491   \n",
              "4           -74.004471        40.721657         -74.004333         40.721790   \n",
              "...                ...              ...                ...               ...   \n",
              "9988        -73.978203        40.748501         -73.989586         40.735413   \n",
              "9989        -74.002960        40.733433         -74.003677         40.722553   \n",
              "9990        -73.977112        40.787426         -73.967957         40.800926   \n",
              "9991        -73.973511        40.763817         -73.974014         40.755287   \n",
              "9992        -73.983841        40.738144         -73.974525         40.744331   \n",
              "\n",
              "      rate_code  passenger_count  fare_amount  day  hour  vendor_id_CMT  \\\n",
              "0             1                6          2.5    1    20            0.0   \n",
              "1             1                1          2.5    4     0            0.0   \n",
              "2             1                1          2.5    3     1            1.0   \n",
              "3             1                1          2.5    4    18            1.0   \n",
              "4             1                5          2.5    3    17            0.0   \n",
              "...         ...              ...          ...  ...   ...            ...   \n",
              "9988          1                2          6.0    4     8            0.0   \n",
              "9989          1                1          6.0    0    18            1.0   \n",
              "9990          1                1          6.0    5    18            0.0   \n",
              "9991          1                1          6.0    4     7            1.0   \n",
              "9992          1                1          6.0    4    18            1.0   \n",
              "\n",
              "      vendor_id_VTS  \n",
              "0               1.0  \n",
              "1               1.0  \n",
              "2               0.0  \n",
              "3               0.0  \n",
              "4               1.0  \n",
              "...             ...  \n",
              "9988            1.0  \n",
              "9989            0.0  \n",
              "9990            1.0  \n",
              "9991            0.0  \n",
              "9992            0.0  \n",
              "\n",
              "[9993 rows x 11 columns]"
            ],
            "text/html": [
              "\n",
              "  <div id=\"df-34b17987-d7f9-4f3c-a7b3-1fa3aebf0370\">\n",
              "    <div class=\"colab-df-container\">\n",
              "      <div>\n",
              "<style scoped>\n",
              "    .dataframe tbody tr th:only-of-type {\n",
              "        vertical-align: middle;\n",
              "    }\n",
              "\n",
              "    .dataframe tbody tr th {\n",
              "        vertical-align: top;\n",
              "    }\n",
              "\n",
              "    .dataframe thead th {\n",
              "        text-align: right;\n",
              "    }\n",
              "</style>\n",
              "<table border=\"1\" class=\"dataframe\">\n",
              "  <thead>\n",
              "    <tr style=\"text-align: right;\">\n",
              "      <th></th>\n",
              "      <th>pickup_longitude</th>\n",
              "      <th>pickup_latitude</th>\n",
              "      <th>dropoff_longitude</th>\n",
              "      <th>dropoff_latitude</th>\n",
              "      <th>rate_code</th>\n",
              "      <th>passenger_count</th>\n",
              "      <th>fare_amount</th>\n",
              "      <th>day</th>\n",
              "      <th>hour</th>\n",
              "      <th>vendor_id_CMT</th>\n",
              "      <th>vendor_id_VTS</th>\n",
              "    </tr>\n",
              "  </thead>\n",
              "  <tbody>\n",
              "    <tr>\n",
              "      <th>0</th>\n",
              "      <td>-73.989525</td>\n",
              "      <td>40.735950</td>\n",
              "      <td>-73.988747</td>\n",
              "      <td>40.736984</td>\n",
              "      <td>1</td>\n",
              "      <td>6</td>\n",
              "      <td>2.5</td>\n",
              "      <td>1</td>\n",
              "      <td>20</td>\n",
              "      <td>0.0</td>\n",
              "      <td>1.0</td>\n",
              "    </tr>\n",
              "    <tr>\n",
              "      <th>1</th>\n",
              "      <td>-73.987953</td>\n",
              "      <td>40.743717</td>\n",
              "      <td>-73.945580</td>\n",
              "      <td>40.829327</td>\n",
              "      <td>1</td>\n",
              "      <td>1</td>\n",
              "      <td>2.5</td>\n",
              "      <td>4</td>\n",
              "      <td>0</td>\n",
              "      <td>0.0</td>\n",
              "      <td>1.0</td>\n",
              "    </tr>\n",
              "    <tr>\n",
              "      <th>2</th>\n",
              "      <td>-73.977577</td>\n",
              "      <td>40.757839</td>\n",
              "      <td>-73.978226</td>\n",
              "      <td>40.758121</td>\n",
              "      <td>1</td>\n",
              "      <td>1</td>\n",
              "      <td>2.5</td>\n",
              "      <td>3</td>\n",
              "      <td>1</td>\n",
              "      <td>1.0</td>\n",
              "      <td>0.0</td>\n",
              "    </tr>\n",
              "    <tr>\n",
              "      <th>3</th>\n",
              "      <td>-73.992142</td>\n",
              "      <td>40.739388</td>\n",
              "      <td>-73.992096</td>\n",
              "      <td>40.739491</td>\n",
              "      <td>1</td>\n",
              "      <td>1</td>\n",
              "      <td>2.5</td>\n",
              "      <td>4</td>\n",
              "      <td>18</td>\n",
              "      <td>1.0</td>\n",
              "      <td>0.0</td>\n",
              "    </tr>\n",
              "    <tr>\n",
              "      <th>4</th>\n",
              "      <td>-74.004471</td>\n",
              "      <td>40.721657</td>\n",
              "      <td>-74.004333</td>\n",
              "      <td>40.721790</td>\n",
              "      <td>1</td>\n",
              "      <td>5</td>\n",
              "      <td>2.5</td>\n",
              "      <td>3</td>\n",
              "      <td>17</td>\n",
              "      <td>0.0</td>\n",
              "      <td>1.0</td>\n",
              "    </tr>\n",
              "    <tr>\n",
              "      <th>...</th>\n",
              "      <td>...</td>\n",
              "      <td>...</td>\n",
              "      <td>...</td>\n",
              "      <td>...</td>\n",
              "      <td>...</td>\n",
              "      <td>...</td>\n",
              "      <td>...</td>\n",
              "      <td>...</td>\n",
              "      <td>...</td>\n",
              "      <td>...</td>\n",
              "      <td>...</td>\n",
              "    </tr>\n",
              "    <tr>\n",
              "      <th>9988</th>\n",
              "      <td>-73.978203</td>\n",
              "      <td>40.748501</td>\n",
              "      <td>-73.989586</td>\n",
              "      <td>40.735413</td>\n",
              "      <td>1</td>\n",
              "      <td>2</td>\n",
              "      <td>6.0</td>\n",
              "      <td>4</td>\n",
              "      <td>8</td>\n",
              "      <td>0.0</td>\n",
              "      <td>1.0</td>\n",
              "    </tr>\n",
              "    <tr>\n",
              "      <th>9989</th>\n",
              "      <td>-74.002960</td>\n",
              "      <td>40.733433</td>\n",
              "      <td>-74.003677</td>\n",
              "      <td>40.722553</td>\n",
              "      <td>1</td>\n",
              "      <td>1</td>\n",
              "      <td>6.0</td>\n",
              "      <td>0</td>\n",
              "      <td>18</td>\n",
              "      <td>1.0</td>\n",
              "      <td>0.0</td>\n",
              "    </tr>\n",
              "    <tr>\n",
              "      <th>9990</th>\n",
              "      <td>-73.977112</td>\n",
              "      <td>40.787426</td>\n",
              "      <td>-73.967957</td>\n",
              "      <td>40.800926</td>\n",
              "      <td>1</td>\n",
              "      <td>1</td>\n",
              "      <td>6.0</td>\n",
              "      <td>5</td>\n",
              "      <td>18</td>\n",
              "      <td>0.0</td>\n",
              "      <td>1.0</td>\n",
              "    </tr>\n",
              "    <tr>\n",
              "      <th>9991</th>\n",
              "      <td>-73.973511</td>\n",
              "      <td>40.763817</td>\n",
              "      <td>-73.974014</td>\n",
              "      <td>40.755287</td>\n",
              "      <td>1</td>\n",
              "      <td>1</td>\n",
              "      <td>6.0</td>\n",
              "      <td>4</td>\n",
              "      <td>7</td>\n",
              "      <td>1.0</td>\n",
              "      <td>0.0</td>\n",
              "    </tr>\n",
              "    <tr>\n",
              "      <th>9992</th>\n",
              "      <td>-73.983841</td>\n",
              "      <td>40.738144</td>\n",
              "      <td>-73.974525</td>\n",
              "      <td>40.744331</td>\n",
              "      <td>1</td>\n",
              "      <td>1</td>\n",
              "      <td>6.0</td>\n",
              "      <td>4</td>\n",
              "      <td>18</td>\n",
              "      <td>1.0</td>\n",
              "      <td>0.0</td>\n",
              "    </tr>\n",
              "  </tbody>\n",
              "</table>\n",
              "<p>9993 rows × 11 columns</p>\n",
              "</div>\n",
              "      <button class=\"colab-df-convert\" onclick=\"convertToInteractive('df-34b17987-d7f9-4f3c-a7b3-1fa3aebf0370')\"\n",
              "              title=\"Convert this dataframe to an interactive table.\"\n",
              "              style=\"display:none;\">\n",
              "        \n",
              "  <svg xmlns=\"http://www.w3.org/2000/svg\" height=\"24px\"viewBox=\"0 0 24 24\"\n",
              "       width=\"24px\">\n",
              "    <path d=\"M0 0h24v24H0V0z\" fill=\"none\"/>\n",
              "    <path d=\"M18.56 5.44l.94 2.06.94-2.06 2.06-.94-2.06-.94-.94-2.06-.94 2.06-2.06.94zm-11 1L8.5 8.5l.94-2.06 2.06-.94-2.06-.94L8.5 2.5l-.94 2.06-2.06.94zm10 10l.94 2.06.94-2.06 2.06-.94-2.06-.94-.94-2.06-.94 2.06-2.06.94z\"/><path d=\"M17.41 7.96l-1.37-1.37c-.4-.4-.92-.59-1.43-.59-.52 0-1.04.2-1.43.59L10.3 9.45l-7.72 7.72c-.78.78-.78 2.05 0 2.83L4 21.41c.39.39.9.59 1.41.59.51 0 1.02-.2 1.41-.59l7.78-7.78 2.81-2.81c.8-.78.8-2.07 0-2.86zM5.41 20L4 18.59l7.72-7.72 1.47 1.35L5.41 20z\"/>\n",
              "  </svg>\n",
              "      </button>\n",
              "      \n",
              "  <style>\n",
              "    .colab-df-container {\n",
              "      display:flex;\n",
              "      flex-wrap:wrap;\n",
              "      gap: 12px;\n",
              "    }\n",
              "\n",
              "    .colab-df-convert {\n",
              "      background-color: #E8F0FE;\n",
              "      border: none;\n",
              "      border-radius: 50%;\n",
              "      cursor: pointer;\n",
              "      display: none;\n",
              "      fill: #1967D2;\n",
              "      height: 32px;\n",
              "      padding: 0 0 0 0;\n",
              "      width: 32px;\n",
              "    }\n",
              "\n",
              "    .colab-df-convert:hover {\n",
              "      background-color: #E2EBFA;\n",
              "      box-shadow: 0px 1px 2px rgba(60, 64, 67, 0.3), 0px 1px 3px 1px rgba(60, 64, 67, 0.15);\n",
              "      fill: #174EA6;\n",
              "    }\n",
              "\n",
              "    [theme=dark] .colab-df-convert {\n",
              "      background-color: #3B4455;\n",
              "      fill: #D2E3FC;\n",
              "    }\n",
              "\n",
              "    [theme=dark] .colab-df-convert:hover {\n",
              "      background-color: #434B5C;\n",
              "      box-shadow: 0px 1px 3px 1px rgba(0, 0, 0, 0.15);\n",
              "      filter: drop-shadow(0px 1px 2px rgba(0, 0, 0, 0.3));\n",
              "      fill: #FFFFFF;\n",
              "    }\n",
              "  </style>\n",
              "\n",
              "      <script>\n",
              "        const buttonEl =\n",
              "          document.querySelector('#df-34b17987-d7f9-4f3c-a7b3-1fa3aebf0370 button.colab-df-convert');\n",
              "        buttonEl.style.display =\n",
              "          google.colab.kernel.accessAllowed ? 'block' : 'none';\n",
              "\n",
              "        async function convertToInteractive(key) {\n",
              "          const element = document.querySelector('#df-34b17987-d7f9-4f3c-a7b3-1fa3aebf0370');\n",
              "          const dataTable =\n",
              "            await google.colab.kernel.invokeFunction('convertToInteractive',\n",
              "                                                     [key], {});\n",
              "          if (!dataTable) return;\n",
              "\n",
              "          const docLinkHtml = 'Like what you see? Visit the ' +\n",
              "            '<a target=\"_blank\" href=https://colab.research.google.com/notebooks/data_table.ipynb>data table notebook</a>'\n",
              "            + ' to learn more about interactive tables.';\n",
              "          element.innerHTML = '';\n",
              "          dataTable['output_type'] = 'display_data';\n",
              "          await google.colab.output.renderOutput(dataTable, element);\n",
              "          const docLink = document.createElement('div');\n",
              "          docLink.innerHTML = docLinkHtml;\n",
              "          element.appendChild(docLink);\n",
              "        }\n",
              "      </script>\n",
              "    </div>\n",
              "  </div>\n",
              "  "
            ]
          },
          "metadata": {},
          "execution_count": 140
        }
      ]
    },
    {
      "cell_type": "markdown",
      "source": [
        "**Tạo mới feature**\n",
        "\n",
        "Tính khoảng cách euclide từ pickup_longitude\t/ pickup_latitude\tdropoff_longitude /\tdropoff_latitude\n",
        "\n",
        "\n",
        "..............\n"
      ],
      "metadata": {
        "id": "tQGq1JK6uaym"
      }
    },
    {
      "cell_type": "code",
      "source": [
        "def minkowski_distance(x1, x2, y1, y2, p):\n",
        "    return ((abs(x2 - x1) ** p) + (abs(y2 - y1)) ** p) ** (1 / p)"
      ],
      "metadata": {
        "id": "xt9KFLjxvvvx"
      },
      "execution_count": 141,
      "outputs": []
    },
    {
      "cell_type": "code",
      "source": [
        "data['distance'] = minkowski_distance(data.pickup_longitude, data.dropoff_longitude, \n",
        "                                           data.pickup_latitude, data.dropoff_latitude, 1)\n"
      ],
      "metadata": {
        "id": "Ku3JgpVVsl1e"
      },
      "execution_count": 142,
      "outputs": []
    },
    {
      "cell_type": "code",
      "source": [
        "data.head(5)"
      ],
      "metadata": {
        "colab": {
          "base_uri": "https://localhost:8080/",
          "height": 206
        },
        "id": "oWm22UrRwELr",
        "outputId": "1afd7fa8-4741-4746-81e7-55aa416e5bc7"
      },
      "execution_count": 143,
      "outputs": [
        {
          "output_type": "execute_result",
          "data": {
            "text/plain": [
              "   pickup_longitude  pickup_latitude  dropoff_longitude  dropoff_latitude  \\\n",
              "0        -73.989525        40.735950         -73.988747         40.736984   \n",
              "1        -73.987953        40.743717         -73.945580         40.829327   \n",
              "2        -73.977577        40.757839         -73.978226         40.758121   \n",
              "3        -73.992142        40.739388         -73.992096         40.739491   \n",
              "4        -74.004471        40.721657         -74.004333         40.721790   \n",
              "\n",
              "   rate_code  passenger_count  fare_amount  day  hour  vendor_id_CMT  \\\n",
              "0          1                6          2.5    1    20            0.0   \n",
              "1          1                1          2.5    4     0            0.0   \n",
              "2          1                1          2.5    3     1            1.0   \n",
              "3          1                1          2.5    4    18            1.0   \n",
              "4          1                5          2.5    3    17            0.0   \n",
              "\n",
              "   vendor_id_VTS  distance  \n",
              "0            1.0  0.001812  \n",
              "1            1.0  0.127983  \n",
              "2            0.0  0.000931  \n",
              "3            0.0  0.000149  \n",
              "4            1.0  0.000271  "
            ],
            "text/html": [
              "\n",
              "  <div id=\"df-bca4a56a-862c-4849-b1e4-63fae3b2cee2\">\n",
              "    <div class=\"colab-df-container\">\n",
              "      <div>\n",
              "<style scoped>\n",
              "    .dataframe tbody tr th:only-of-type {\n",
              "        vertical-align: middle;\n",
              "    }\n",
              "\n",
              "    .dataframe tbody tr th {\n",
              "        vertical-align: top;\n",
              "    }\n",
              "\n",
              "    .dataframe thead th {\n",
              "        text-align: right;\n",
              "    }\n",
              "</style>\n",
              "<table border=\"1\" class=\"dataframe\">\n",
              "  <thead>\n",
              "    <tr style=\"text-align: right;\">\n",
              "      <th></th>\n",
              "      <th>pickup_longitude</th>\n",
              "      <th>pickup_latitude</th>\n",
              "      <th>dropoff_longitude</th>\n",
              "      <th>dropoff_latitude</th>\n",
              "      <th>rate_code</th>\n",
              "      <th>passenger_count</th>\n",
              "      <th>fare_amount</th>\n",
              "      <th>day</th>\n",
              "      <th>hour</th>\n",
              "      <th>vendor_id_CMT</th>\n",
              "      <th>vendor_id_VTS</th>\n",
              "      <th>distance</th>\n",
              "    </tr>\n",
              "  </thead>\n",
              "  <tbody>\n",
              "    <tr>\n",
              "      <th>0</th>\n",
              "      <td>-73.989525</td>\n",
              "      <td>40.735950</td>\n",
              "      <td>-73.988747</td>\n",
              "      <td>40.736984</td>\n",
              "      <td>1</td>\n",
              "      <td>6</td>\n",
              "      <td>2.5</td>\n",
              "      <td>1</td>\n",
              "      <td>20</td>\n",
              "      <td>0.0</td>\n",
              "      <td>1.0</td>\n",
              "      <td>0.001812</td>\n",
              "    </tr>\n",
              "    <tr>\n",
              "      <th>1</th>\n",
              "      <td>-73.987953</td>\n",
              "      <td>40.743717</td>\n",
              "      <td>-73.945580</td>\n",
              "      <td>40.829327</td>\n",
              "      <td>1</td>\n",
              "      <td>1</td>\n",
              "      <td>2.5</td>\n",
              "      <td>4</td>\n",
              "      <td>0</td>\n",
              "      <td>0.0</td>\n",
              "      <td>1.0</td>\n",
              "      <td>0.127983</td>\n",
              "    </tr>\n",
              "    <tr>\n",
              "      <th>2</th>\n",
              "      <td>-73.977577</td>\n",
              "      <td>40.757839</td>\n",
              "      <td>-73.978226</td>\n",
              "      <td>40.758121</td>\n",
              "      <td>1</td>\n",
              "      <td>1</td>\n",
              "      <td>2.5</td>\n",
              "      <td>3</td>\n",
              "      <td>1</td>\n",
              "      <td>1.0</td>\n",
              "      <td>0.0</td>\n",
              "      <td>0.000931</td>\n",
              "    </tr>\n",
              "    <tr>\n",
              "      <th>3</th>\n",
              "      <td>-73.992142</td>\n",
              "      <td>40.739388</td>\n",
              "      <td>-73.992096</td>\n",
              "      <td>40.739491</td>\n",
              "      <td>1</td>\n",
              "      <td>1</td>\n",
              "      <td>2.5</td>\n",
              "      <td>4</td>\n",
              "      <td>18</td>\n",
              "      <td>1.0</td>\n",
              "      <td>0.0</td>\n",
              "      <td>0.000149</td>\n",
              "    </tr>\n",
              "    <tr>\n",
              "      <th>4</th>\n",
              "      <td>-74.004471</td>\n",
              "      <td>40.721657</td>\n",
              "      <td>-74.004333</td>\n",
              "      <td>40.721790</td>\n",
              "      <td>1</td>\n",
              "      <td>5</td>\n",
              "      <td>2.5</td>\n",
              "      <td>3</td>\n",
              "      <td>17</td>\n",
              "      <td>0.0</td>\n",
              "      <td>1.0</td>\n",
              "      <td>0.000271</td>\n",
              "    </tr>\n",
              "  </tbody>\n",
              "</table>\n",
              "</div>\n",
              "      <button class=\"colab-df-convert\" onclick=\"convertToInteractive('df-bca4a56a-862c-4849-b1e4-63fae3b2cee2')\"\n",
              "              title=\"Convert this dataframe to an interactive table.\"\n",
              "              style=\"display:none;\">\n",
              "        \n",
              "  <svg xmlns=\"http://www.w3.org/2000/svg\" height=\"24px\"viewBox=\"0 0 24 24\"\n",
              "       width=\"24px\">\n",
              "    <path d=\"M0 0h24v24H0V0z\" fill=\"none\"/>\n",
              "    <path d=\"M18.56 5.44l.94 2.06.94-2.06 2.06-.94-2.06-.94-.94-2.06-.94 2.06-2.06.94zm-11 1L8.5 8.5l.94-2.06 2.06-.94-2.06-.94L8.5 2.5l-.94 2.06-2.06.94zm10 10l.94 2.06.94-2.06 2.06-.94-2.06-.94-.94-2.06-.94 2.06-2.06.94z\"/><path d=\"M17.41 7.96l-1.37-1.37c-.4-.4-.92-.59-1.43-.59-.52 0-1.04.2-1.43.59L10.3 9.45l-7.72 7.72c-.78.78-.78 2.05 0 2.83L4 21.41c.39.39.9.59 1.41.59.51 0 1.02-.2 1.41-.59l7.78-7.78 2.81-2.81c.8-.78.8-2.07 0-2.86zM5.41 20L4 18.59l7.72-7.72 1.47 1.35L5.41 20z\"/>\n",
              "  </svg>\n",
              "      </button>\n",
              "      \n",
              "  <style>\n",
              "    .colab-df-container {\n",
              "      display:flex;\n",
              "      flex-wrap:wrap;\n",
              "      gap: 12px;\n",
              "    }\n",
              "\n",
              "    .colab-df-convert {\n",
              "      background-color: #E8F0FE;\n",
              "      border: none;\n",
              "      border-radius: 50%;\n",
              "      cursor: pointer;\n",
              "      display: none;\n",
              "      fill: #1967D2;\n",
              "      height: 32px;\n",
              "      padding: 0 0 0 0;\n",
              "      width: 32px;\n",
              "    }\n",
              "\n",
              "    .colab-df-convert:hover {\n",
              "      background-color: #E2EBFA;\n",
              "      box-shadow: 0px 1px 2px rgba(60, 64, 67, 0.3), 0px 1px 3px 1px rgba(60, 64, 67, 0.15);\n",
              "      fill: #174EA6;\n",
              "    }\n",
              "\n",
              "    [theme=dark] .colab-df-convert {\n",
              "      background-color: #3B4455;\n",
              "      fill: #D2E3FC;\n",
              "    }\n",
              "\n",
              "    [theme=dark] .colab-df-convert:hover {\n",
              "      background-color: #434B5C;\n",
              "      box-shadow: 0px 1px 3px 1px rgba(0, 0, 0, 0.15);\n",
              "      filter: drop-shadow(0px 1px 2px rgba(0, 0, 0, 0.3));\n",
              "      fill: #FFFFFF;\n",
              "    }\n",
              "  </style>\n",
              "\n",
              "      <script>\n",
              "        const buttonEl =\n",
              "          document.querySelector('#df-bca4a56a-862c-4849-b1e4-63fae3b2cee2 button.colab-df-convert');\n",
              "        buttonEl.style.display =\n",
              "          google.colab.kernel.accessAllowed ? 'block' : 'none';\n",
              "\n",
              "        async function convertToInteractive(key) {\n",
              "          const element = document.querySelector('#df-bca4a56a-862c-4849-b1e4-63fae3b2cee2');\n",
              "          const dataTable =\n",
              "            await google.colab.kernel.invokeFunction('convertToInteractive',\n",
              "                                                     [key], {});\n",
              "          if (!dataTable) return;\n",
              "\n",
              "          const docLinkHtml = 'Like what you see? Visit the ' +\n",
              "            '<a target=\"_blank\" href=https://colab.research.google.com/notebooks/data_table.ipynb>data table notebook</a>'\n",
              "            + ' to learn more about interactive tables.';\n",
              "          element.innerHTML = '';\n",
              "          dataTable['output_type'] = 'display_data';\n",
              "          await google.colab.output.renderOutput(dataTable, element);\n",
              "          const docLink = document.createElement('div');\n",
              "          docLink.innerHTML = docLinkHtml;\n",
              "          element.appendChild(docLink);\n",
              "        }\n",
              "      </script>\n",
              "    </div>\n",
              "  </div>\n",
              "  "
            ]
          },
          "metadata": {},
          "execution_count": 143
        }
      ]
    },
    {
      "cell_type": "markdown",
      "source": [
        "**Bucketized feature**\n",
        "\n",
        "👉 kinh độ và vĩ độ bins\n",
        "\n",
        "![image.png](data:image/png;base64,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)"
      ],
      "metadata": {
        "id": "j5rVKYVTw63v"
      }
    },
    {
      "cell_type": "code",
      "source": [
        "import numpy as np\n",
        "\n",
        "step = 0.01\n",
        "to_bin = lambda x: np.floor(x / step) * step\n",
        "data[\"pickup_latitude\"] = to_bin(data.pickup_latitude)\n",
        "data[\"pickup_longitude\"] = to_bin(data.pickup_longitude)\n",
        "data[\"dropoff_latitude\"] = to_bin(data.dropoff_latitude)\n",
        "data[\"dropoff_longitude\"] = to_bin(data.dropoff_longitude)"
      ],
      "metadata": {
        "id": "1s-QJPAWzu2S"
      },
      "execution_count": 144,
      "outputs": []
    },
    {
      "cell_type": "code",
      "source": [
        "# check lại phân phối\n",
        "data.pickup_latitude.hist()"
      ],
      "metadata": {
        "colab": {
          "base_uri": "https://localhost:8080/",
          "height": 282
        },
        "id": "o5bT_5Fa1s7P",
        "outputId": "8f827096-941d-4503-ff88-05bd15695d9d"
      },
      "execution_count": 145,
      "outputs": [
        {
          "output_type": "execute_result",
          "data": {
            "text/plain": [
              "<matplotlib.axes._subplots.AxesSubplot at 0x7f88fd0722d0>"
            ]
          },
          "metadata": {},
          "execution_count": 145
        },
        {
          "output_type": "display_data",
          "data": {
            "text/plain": [
              "<Figure size 432x288 with 1 Axes>"
            ],
            "image/png": "[encoded data removed]"
          },
          "metadata": {
            "needs_background": "light"
          }
        }
      ]
    },
    {
      "cell_type": "markdown",
      "source": [
        "**Feature cross**\n",
        "\n",
        "day & hour: giờ và ngày trong tuần quan hệ ntn?\n",
        "\n",
        "👉 nên tạo feature mới để thể hiện mối quan hệ của giờ trong tuần. Ví dụ giá taxi của trưa thứ 4 giữa tuần vs tối thứ 6 cuối tuần"
      ],
      "metadata": {
        "id": "VwzuRCWnxkj5"
      }
    },
    {
      "cell_type": "code",
      "source": [
        "#data['day_hour'] = data.apply(lambda x: \"{}_{}\".format(x['day'],x['hour']),axis =1)\n",
        "data['day_hour'] = data.apply(lambda x: x['day']*x['hour'],axis =1)"
      ],
      "metadata": {
        "id": "nue1uit3xlDK"
      },
      "execution_count": 146,
      "outputs": []
    },
    {
      "cell_type": "code",
      "source": [
        "data.head(5)"
      ],
      "metadata": {
        "colab": {
          "base_uri": "https://localhost:8080/",
          "height": 206
        },
        "id": "hbaRH4mrh_Qg",
        "outputId": "8505fb26-b5ad-4ee3-abc3-9aa5f7c6ed61"
      },
      "execution_count": 148,
      "outputs": [
        {
          "output_type": "execute_result",
          "data": {
            "text/plain": [
              "   pickup_longitude  pickup_latitude  dropoff_longitude  dropoff_latitude  \\\n",
              "0            -73.99            40.73             -73.99             40.73   \n",
              "1            -73.99            40.74             -73.95             40.82   \n",
              "2            -73.98            40.75             -73.98             40.75   \n",
              "3            -74.00            40.73             -74.00             40.73   \n",
              "4            -74.01            40.72             -74.01             40.72   \n",
              "\n",
              "   rate_code  passenger_count  fare_amount  day  hour  vendor_id_CMT  \\\n",
              "0          1                6          2.5    1    20            0.0   \n",
              "1          1                1          2.5    4     0            0.0   \n",
              "2          1                1          2.5    3     1            1.0   \n",
              "3          1                1          2.5    4    18            1.0   \n",
              "4          1                5          2.5    3    17            0.0   \n",
              "\n",
              "   vendor_id_VTS  distance  day_hour  \n",
              "0            1.0  0.001812      20.0  \n",
              "1            1.0  0.127983       0.0  \n",
              "2            0.0  0.000931       3.0  \n",
              "3            0.0  0.000149      72.0  \n",
              "4            1.0  0.000271      51.0  "
            ],
            "text/html": [
              "\n",
              "  <div id=\"df-97e75dfc-d7e0-441e-a631-1aba371b46b4\">\n",
              "    <div class=\"colab-df-container\">\n",
              "      <div>\n",
              "<style scoped>\n",
              "    .dataframe tbody tr th:only-of-type {\n",
              "        vertical-align: middle;\n",
              "    }\n",
              "\n",
              "    .dataframe tbody tr th {\n",
              "        vertical-align: top;\n",
              "    }\n",
              "\n",
              "    .dataframe thead th {\n",
              "        text-align: right;\n",
              "    }\n",
              "</style>\n",
              "<table border=\"1\" class=\"dataframe\">\n",
              "  <thead>\n",
              "    <tr style=\"text-align: right;\">\n",
              "      <th></th>\n",
              "      <th>pickup_longitude</th>\n",
              "      <th>pickup_latitude</th>\n",
              "      <th>dropoff_longitude</th>\n",
              "      <th>dropoff_latitude</th>\n",
              "      <th>rate_code</th>\n",
              "      <th>passenger_count</th>\n",
              "      <th>fare_amount</th>\n",
              "      <th>day</th>\n",
              "      <th>hour</th>\n",
              "      <th>vendor_id_CMT</th>\n",
              "      <th>vendor_id_VTS</th>\n",
              "      <th>distance</th>\n",
              "      <th>day_hour</th>\n",
              "    </tr>\n",
              "  </thead>\n",
              "  <tbody>\n",
              "    <tr>\n",
              "      <th>0</th>\n",
              "      <td>-73.99</td>\n",
              "      <td>40.73</td>\n",
              "      <td>-73.99</td>\n",
              "      <td>40.73</td>\n",
              "      <td>1</td>\n",
              "      <td>6</td>\n",
              "      <td>2.5</td>\n",
              "      <td>1</td>\n",
              "      <td>20</td>\n",
              "      <td>0.0</td>\n",
              "      <td>1.0</td>\n",
              "      <td>0.001812</td>\n",
              "      <td>20.0</td>\n",
              "    </tr>\n",
              "    <tr>\n",
              "      <th>1</th>\n",
              "      <td>-73.99</td>\n",
              "      <td>40.74</td>\n",
              "      <td>-73.95</td>\n",
              "      <td>40.82</td>\n",
              "      <td>1</td>\n",
              "      <td>1</td>\n",
              "      <td>2.5</td>\n",
              "      <td>4</td>\n",
              "      <td>0</td>\n",
              "      <td>0.0</td>\n",
              "      <td>1.0</td>\n",
              "      <td>0.127983</td>\n",
              "      <td>0.0</td>\n",
              "    </tr>\n",
              "    <tr>\n",
              "      <th>2</th>\n",
              "      <td>-73.98</td>\n",
              "      <td>40.75</td>\n",
              "      <td>-73.98</td>\n",
              "      <td>40.75</td>\n",
              "      <td>1</td>\n",
              "      <td>1</td>\n",
              "      <td>2.5</td>\n",
              "      <td>3</td>\n",
              "      <td>1</td>\n",
              "      <td>1.0</td>\n",
              "      <td>0.0</td>\n",
              "      <td>0.000931</td>\n",
              "      <td>3.0</td>\n",
              "    </tr>\n",
              "    <tr>\n",
              "      <th>3</th>\n",
              "      <td>-74.00</td>\n",
              "      <td>40.73</td>\n",
              "      <td>-74.00</td>\n",
              "      <td>40.73</td>\n",
              "      <td>1</td>\n",
              "      <td>1</td>\n",
              "      <td>2.5</td>\n",
              "      <td>4</td>\n",
              "      <td>18</td>\n",
              "      <td>1.0</td>\n",
              "      <td>0.0</td>\n",
              "      <td>0.000149</td>\n",
              "      <td>72.0</td>\n",
              "    </tr>\n",
              "    <tr>\n",
              "      <th>4</th>\n",
              "      <td>-74.01</td>\n",
              "      <td>40.72</td>\n",
              "      <td>-74.01</td>\n",
              "      <td>40.72</td>\n",
              "      <td>1</td>\n",
              "      <td>5</td>\n",
              "      <td>2.5</td>\n",
              "      <td>3</td>\n",
              "      <td>17</td>\n",
              "      <td>0.0</td>\n",
              "      <td>1.0</td>\n",
              "      <td>0.000271</td>\n",
              "      <td>51.0</td>\n",
              "    </tr>\n",
              "  </tbody>\n",
              "</table>\n",
              "</div>\n",
              "      <button class=\"colab-df-convert\" onclick=\"convertToInteractive('df-97e75dfc-d7e0-441e-a631-1aba371b46b4')\"\n",
              "              title=\"Convert this dataframe to an interactive table.\"\n",
              "              style=\"display:none;\">\n",
              "        \n",
              "  <svg xmlns=\"http://www.w3.org/2000/svg\" height=\"24px\"viewBox=\"0 0 24 24\"\n",
              "       width=\"24px\">\n",
              "    <path d=\"M0 0h24v24H0V0z\" fill=\"none\"/>\n",
              "    <path d=\"M18.56 5.44l.94 2.06.94-2.06 2.06-.94-2.06-.94-.94-2.06-.94 2.06-2.06.94zm-11 1L8.5 8.5l.94-2.06 2.06-.94-2.06-.94L8.5 2.5l-.94 2.06-2.06.94zm10 10l.94 2.06.94-2.06 2.06-.94-2.06-.94-.94-2.06-.94 2.06-2.06.94z\"/><path d=\"M17.41 7.96l-1.37-1.37c-.4-.4-.92-.59-1.43-.59-.52 0-1.04.2-1.43.59L10.3 9.45l-7.72 7.72c-.78.78-.78 2.05 0 2.83L4 21.41c.39.39.9.59 1.41.59.51 0 1.02-.2 1.41-.59l7.78-7.78 2.81-2.81c.8-.78.8-2.07 0-2.86zM5.41 20L4 18.59l7.72-7.72 1.47 1.35L5.41 20z\"/>\n",
              "  </svg>\n",
              "      </button>\n",
              "      \n",
              "  <style>\n",
              "    .colab-df-container {\n",
              "      display:flex;\n",
              "      flex-wrap:wrap;\n",
              "      gap: 12px;\n",
              "    }\n",
              "\n",
              "    .colab-df-convert {\n",
              "      background-color: #E8F0FE;\n",
              "      border: none;\n",
              "      border-radius: 50%;\n",
              "      cursor: pointer;\n",
              "      display: none;\n",
              "      fill: #1967D2;\n",
              "      height: 32px;\n",
              "      padding: 0 0 0 0;\n",
              "      width: 32px;\n",
              "    }\n",
              "\n",
              "    .colab-df-convert:hover {\n",
              "      background-color: #E2EBFA;\n",
              "      box-shadow: 0px 1px 2px rgba(60, 64, 67, 0.3), 0px 1px 3px 1px rgba(60, 64, 67, 0.15);\n",
              "      fill: #174EA6;\n",
              "    }\n",
              "\n",
              "    [theme=dark] .colab-df-convert {\n",
              "      background-color: #3B4455;\n",
              "      fill: #D2E3FC;\n",
              "    }\n",
              "\n",
              "    [theme=dark] .colab-df-convert:hover {\n",
              "      background-color: #434B5C;\n",
              "      box-shadow: 0px 1px 3px 1px rgba(0, 0, 0, 0.15);\n",
              "      filter: drop-shadow(0px 1px 2px rgba(0, 0, 0, 0.3));\n",
              "      fill: #FFFFFF;\n",
              "    }\n",
              "  </style>\n",
              "\n",
              "      <script>\n",
              "        const buttonEl =\n",
              "          document.querySelector('#df-97e75dfc-d7e0-441e-a631-1aba371b46b4 button.colab-df-convert');\n",
              "        buttonEl.style.display =\n",
              "          google.colab.kernel.accessAllowed ? 'block' : 'none';\n",
              "\n",
              "        async function convertToInteractive(key) {\n",
              "          const element = document.querySelector('#df-97e75dfc-d7e0-441e-a631-1aba371b46b4');\n",
              "          const dataTable =\n",
              "            await google.colab.kernel.invokeFunction('convertToInteractive',\n",
              "                                                     [key], {});\n",
              "          if (!dataTable) return;\n",
              "\n",
              "          const docLinkHtml = 'Like what you see? Visit the ' +\n",
              "            '<a target=\"_blank\" href=https://colab.research.google.com/notebooks/data_table.ipynb>data table notebook</a>'\n",
              "            + ' to learn more about interactive tables.';\n",
              "          element.innerHTML = '';\n",
              "          dataTable['output_type'] = 'display_data';\n",
              "          await google.colab.output.renderOutput(dataTable, element);\n",
              "          const docLink = document.createElement('div');\n",
              "          docLink.innerHTML = docLinkHtml;\n",
              "          element.appendChild(docLink);\n",
              "        }\n",
              "      </script>\n",
              "    </div>\n",
              "  </div>\n",
              "  "
            ]
          },
          "metadata": {},
          "execution_count": 148
        }
      ]
    },
    {
      "cell_type": "markdown",
      "source": [
        "**Tạo mới model sau thực hiện Feature Engineering**"
      ],
      "metadata": {
        "id": "ViM7MEnekQQd"
      }
    },
    {
      "cell_type": "code",
      "source": [
        "num_columns = ['pickup_longitude','pickup_latitude','dropoff_longitude','dropoff_latitude','rate_code','passenger_count','fare_amount','day','hour','vendor_id_CMT','vendor_id_VTS','distance','day_hour']\n",
        "X = data[num_columns]\n",
        "y = data['fare_amount']"
      ],
      "metadata": {
        "id": "2fXUYiVqknW3"
      },
      "execution_count": 149,
      "outputs": []
    },
    {
      "cell_type": "code",
      "source": [
        "# Sử dụng model LinearRegression đơn giản\n",
        "X_train, X_test, y_train, y_test = train_test_split(X,y,test_size=0.2, random_state=69)"
      ],
      "metadata": {
        "id": "FcHuprUgkW7d"
      },
      "execution_count": 154,
      "outputs": []
    },
    {
      "cell_type": "code",
      "source": [
        "#TODO 5: Huấn luyện mô hình\n",
        "# Training mô hình\n",
        "model = LinearRegression()\n",
        "# training model\n",
        "model.fit(X_train, y_train)"
      ],
      "metadata": {
        "colab": {
          "base_uri": "https://localhost:8080/"
        },
        "id": "EzxSDl2DlAA9",
        "outputId": "02839e6e-0a71-4bc4-a5d9-e9d5e252e6ff"
      },
      "execution_count": 155,
      "outputs": [
        {
          "output_type": "execute_result",
          "data": {
            "text/plain": [
              "LinearRegression()"
            ]
          },
          "metadata": {},
          "execution_count": 155
        }
      ]
    },
    {
      "cell_type": "code",
      "source": [
        "#TODO 6: Đánh giá mô hình\n",
        "\n",
        "y_predict = model.predict(X_test)\n",
        "\n",
        "mean_squared_error(y_test, y_predict) "
      ],
      "metadata": {
        "colab": {
          "base_uri": "https://localhost:8080/"
        },
        "id": "nTCRZNh_khGr",
        "outputId": "f4cfa3d1-b890-4384-8ba2-8ec5064434d4"
      },
      "execution_count": 156,
      "outputs": [
        {
          "output_type": "execute_result",
          "data": {
            "text/plain": [
              "5.516383159486222e-29"
            ]
          },
          "metadata": {},
          "execution_count": 156
        }
      ]
    },
    {
      "cell_type": "markdown",
      "source": [
        "## So sánh mô hình\n",
        "\n",
        "Ta so sánh mô hình baseline và mô hình sau feature engineering\n",
        "\n",
        "| Model          | MSE loss | Description                                  |\n",
        "|----------------|-----------|----------------------------------------------|\n",
        "| baseline_model | 0.69      | Baseline model - no feature engineering    |\n",
        "| model_1        | 0.5e-30      | Model with feature engineering |\n",
        "\n",
        "👉 Mô hình tốt hơn rất nhiều sau khi được Feature Engineering với hiểu biết về dữ liệu sau quá trình EDA"
      ],
      "metadata": {
        "id": "P_uzOy04ljz2"
      }
    },
    {
      "cell_type": "markdown",
      "source": [
        "# Tổng kết"
      ],
      "metadata": {
        "id": "ztt8LWBtmLFz"
      }
    },
    {
      "cell_type": "markdown",
      "source": [
        "> Qua bài lab học viên nắm được các kiến thức\n",
        "- Clean Data\n",
        "- EDA\n",
        "- Feature Engineering\n",
        "- Tạo model regression đơn giản"
      ],
      "metadata": {
        "id": "IIKRCX-JmOSu"
      }
    }
  ]
}